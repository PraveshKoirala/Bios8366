{
  "cells": [
    {
      "cell_type": "markdown",
      "metadata": {
        "id": "view-in-github",
        "colab_type": "text"
      },
      "source": [
        "<a href=\"https://colab.research.google.com/github/PraveshKoirala/Bios8366/blob/master/notebooks/Section2_2-Pandas-Fundamentals.ipynb\" target=\"_parent\"><img src=\"https://colab.research.google.com/assets/colab-badge.svg\" alt=\"Open In Colab\"/></a>"
      ]
    },
    {
      "cell_type": "markdown",
      "metadata": {
        "id": "tC9XeIo9DBDO"
      },
      "source": [
        "[![Open In Colab](https://colab.research.google.com/assets/colab-badge.svg)](https://colab.research.google.com/github/fonnesbeck/Bios8366/blob/master/notebooks/Section2_2-Pandas-Fundamentals.ipynb)\n",
        "\n",
        "# Pandas Fundamentals\n",
        "\n",
        "This section introduces the new user to the key functionality of Pandas that is required to use the software effectively.\n",
        "\n",
        "For some variety, we will leave our digestive tract bacteria behind and employ some baseball data."
      ]
    },
    {
      "cell_type": "code",
      "execution_count": 3,
      "metadata": {
        "id": "xKyvwzVLDBDV",
        "outputId": "f22f3c9e-77c0-4859-89c7-39b03b3498c1",
        "colab": {
          "base_uri": "https://localhost:8080/",
          "height": 455
        }
      },
      "outputs": [
        {
          "output_type": "execute_result",
          "data": {
            "text/html": [
              "\n",
              "  <div id=\"df-bf4124f3-c027-44e8-ad8e-291867b80700\">\n",
              "    <div class=\"colab-df-container\">\n",
              "      <div>\n",
              "<style scoped>\n",
              "    .dataframe tbody tr th:only-of-type {\n",
              "        vertical-align: middle;\n",
              "    }\n",
              "\n",
              "    .dataframe tbody tr th {\n",
              "        vertical-align: top;\n",
              "    }\n",
              "\n",
              "    .dataframe thead th {\n",
              "        text-align: right;\n",
              "    }\n",
              "</style>\n",
              "<table border=\"1\" class=\"dataframe\">\n",
              "  <thead>\n",
              "    <tr style=\"text-align: right;\">\n",
              "      <th></th>\n",
              "      <th>player</th>\n",
              "      <th>year</th>\n",
              "      <th>stint</th>\n",
              "      <th>team</th>\n",
              "      <th>lg</th>\n",
              "      <th>g</th>\n",
              "      <th>ab</th>\n",
              "      <th>r</th>\n",
              "      <th>h</th>\n",
              "      <th>X2b</th>\n",
              "      <th>X3b</th>\n",
              "      <th>hr</th>\n",
              "      <th>rbi</th>\n",
              "      <th>sb</th>\n",
              "      <th>cs</th>\n",
              "      <th>bb</th>\n",
              "      <th>so</th>\n",
              "      <th>ibb</th>\n",
              "      <th>hbp</th>\n",
              "      <th>sh</th>\n",
              "      <th>sf</th>\n",
              "      <th>gidp</th>\n",
              "    </tr>\n",
              "    <tr>\n",
              "      <th>id</th>\n",
              "      <th></th>\n",
              "      <th></th>\n",
              "      <th></th>\n",
              "      <th></th>\n",
              "      <th></th>\n",
              "      <th></th>\n",
              "      <th></th>\n",
              "      <th></th>\n",
              "      <th></th>\n",
              "      <th></th>\n",
              "      <th></th>\n",
              "      <th></th>\n",
              "      <th></th>\n",
              "      <th></th>\n",
              "      <th></th>\n",
              "      <th></th>\n",
              "      <th></th>\n",
              "      <th></th>\n",
              "      <th></th>\n",
              "      <th></th>\n",
              "      <th></th>\n",
              "      <th></th>\n",
              "    </tr>\n",
              "  </thead>\n",
              "  <tbody>\n",
              "    <tr>\n",
              "      <th>88641</th>\n",
              "      <td>womacto01</td>\n",
              "      <td>2006</td>\n",
              "      <td>2</td>\n",
              "      <td>CHN</td>\n",
              "      <td>NL</td>\n",
              "      <td>19</td>\n",
              "      <td>50</td>\n",
              "      <td>6</td>\n",
              "      <td>14</td>\n",
              "      <td>1</td>\n",
              "      <td>0</td>\n",
              "      <td>1</td>\n",
              "      <td>2.0</td>\n",
              "      <td>1.0</td>\n",
              "      <td>1.0</td>\n",
              "      <td>4</td>\n",
              "      <td>4.0</td>\n",
              "      <td>0.0</td>\n",
              "      <td>0.0</td>\n",
              "      <td>3.0</td>\n",
              "      <td>0.0</td>\n",
              "      <td>0.0</td>\n",
              "    </tr>\n",
              "    <tr>\n",
              "      <th>88643</th>\n",
              "      <td>schilcu01</td>\n",
              "      <td>2006</td>\n",
              "      <td>1</td>\n",
              "      <td>BOS</td>\n",
              "      <td>AL</td>\n",
              "      <td>31</td>\n",
              "      <td>2</td>\n",
              "      <td>0</td>\n",
              "      <td>1</td>\n",
              "      <td>0</td>\n",
              "      <td>0</td>\n",
              "      <td>0</td>\n",
              "      <td>0.0</td>\n",
              "      <td>0.0</td>\n",
              "      <td>0.0</td>\n",
              "      <td>0</td>\n",
              "      <td>1.0</td>\n",
              "      <td>0.0</td>\n",
              "      <td>0.0</td>\n",
              "      <td>0.0</td>\n",
              "      <td>0.0</td>\n",
              "      <td>0.0</td>\n",
              "    </tr>\n",
              "    <tr>\n",
              "      <th>88645</th>\n",
              "      <td>myersmi01</td>\n",
              "      <td>2006</td>\n",
              "      <td>1</td>\n",
              "      <td>NYA</td>\n",
              "      <td>AL</td>\n",
              "      <td>62</td>\n",
              "      <td>0</td>\n",
              "      <td>0</td>\n",
              "      <td>0</td>\n",
              "      <td>0</td>\n",
              "      <td>0</td>\n",
              "      <td>0</td>\n",
              "      <td>0.0</td>\n",
              "      <td>0.0</td>\n",
              "      <td>0.0</td>\n",
              "      <td>0</td>\n",
              "      <td>0.0</td>\n",
              "      <td>0.0</td>\n",
              "      <td>0.0</td>\n",
              "      <td>0.0</td>\n",
              "      <td>0.0</td>\n",
              "      <td>0.0</td>\n",
              "    </tr>\n",
              "    <tr>\n",
              "      <th>88649</th>\n",
              "      <td>helliri01</td>\n",
              "      <td>2006</td>\n",
              "      <td>1</td>\n",
              "      <td>MIL</td>\n",
              "      <td>NL</td>\n",
              "      <td>20</td>\n",
              "      <td>3</td>\n",
              "      <td>0</td>\n",
              "      <td>0</td>\n",
              "      <td>0</td>\n",
              "      <td>0</td>\n",
              "      <td>0</td>\n",
              "      <td>0.0</td>\n",
              "      <td>0.0</td>\n",
              "      <td>0.0</td>\n",
              "      <td>0</td>\n",
              "      <td>2.0</td>\n",
              "      <td>0.0</td>\n",
              "      <td>0.0</td>\n",
              "      <td>0.0</td>\n",
              "      <td>0.0</td>\n",
              "      <td>0.0</td>\n",
              "    </tr>\n",
              "    <tr>\n",
              "      <th>88650</th>\n",
              "      <td>johnsra05</td>\n",
              "      <td>2006</td>\n",
              "      <td>1</td>\n",
              "      <td>NYA</td>\n",
              "      <td>AL</td>\n",
              "      <td>33</td>\n",
              "      <td>6</td>\n",
              "      <td>0</td>\n",
              "      <td>1</td>\n",
              "      <td>0</td>\n",
              "      <td>0</td>\n",
              "      <td>0</td>\n",
              "      <td>0.0</td>\n",
              "      <td>0.0</td>\n",
              "      <td>0.0</td>\n",
              "      <td>0</td>\n",
              "      <td>4.0</td>\n",
              "      <td>0.0</td>\n",
              "      <td>0.0</td>\n",
              "      <td>0.0</td>\n",
              "      <td>0.0</td>\n",
              "      <td>0.0</td>\n",
              "    </tr>\n",
              "    <tr>\n",
              "      <th>...</th>\n",
              "      <td>...</td>\n",
              "      <td>...</td>\n",
              "      <td>...</td>\n",
              "      <td>...</td>\n",
              "      <td>...</td>\n",
              "      <td>...</td>\n",
              "      <td>...</td>\n",
              "      <td>...</td>\n",
              "      <td>...</td>\n",
              "      <td>...</td>\n",
              "      <td>...</td>\n",
              "      <td>...</td>\n",
              "      <td>...</td>\n",
              "      <td>...</td>\n",
              "      <td>...</td>\n",
              "      <td>...</td>\n",
              "      <td>...</td>\n",
              "      <td>...</td>\n",
              "      <td>...</td>\n",
              "      <td>...</td>\n",
              "      <td>...</td>\n",
              "      <td>...</td>\n",
              "    </tr>\n",
              "    <tr>\n",
              "      <th>89525</th>\n",
              "      <td>benitar01</td>\n",
              "      <td>2007</td>\n",
              "      <td>2</td>\n",
              "      <td>FLO</td>\n",
              "      <td>NL</td>\n",
              "      <td>34</td>\n",
              "      <td>0</td>\n",
              "      <td>0</td>\n",
              "      <td>0</td>\n",
              "      <td>0</td>\n",
              "      <td>0</td>\n",
              "      <td>0</td>\n",
              "      <td>0.0</td>\n",
              "      <td>0.0</td>\n",
              "      <td>0.0</td>\n",
              "      <td>0</td>\n",
              "      <td>0.0</td>\n",
              "      <td>0.0</td>\n",
              "      <td>0.0</td>\n",
              "      <td>0.0</td>\n",
              "      <td>0.0</td>\n",
              "      <td>0.0</td>\n",
              "    </tr>\n",
              "    <tr>\n",
              "      <th>89526</th>\n",
              "      <td>benitar01</td>\n",
              "      <td>2007</td>\n",
              "      <td>1</td>\n",
              "      <td>SFN</td>\n",
              "      <td>NL</td>\n",
              "      <td>19</td>\n",
              "      <td>0</td>\n",
              "      <td>0</td>\n",
              "      <td>0</td>\n",
              "      <td>0</td>\n",
              "      <td>0</td>\n",
              "      <td>0</td>\n",
              "      <td>0.0</td>\n",
              "      <td>0.0</td>\n",
              "      <td>0.0</td>\n",
              "      <td>0</td>\n",
              "      <td>0.0</td>\n",
              "      <td>0.0</td>\n",
              "      <td>0.0</td>\n",
              "      <td>0.0</td>\n",
              "      <td>0.0</td>\n",
              "      <td>0.0</td>\n",
              "    </tr>\n",
              "    <tr>\n",
              "      <th>89530</th>\n",
              "      <td>ausmubr01</td>\n",
              "      <td>2007</td>\n",
              "      <td>1</td>\n",
              "      <td>HOU</td>\n",
              "      <td>NL</td>\n",
              "      <td>117</td>\n",
              "      <td>349</td>\n",
              "      <td>38</td>\n",
              "      <td>82</td>\n",
              "      <td>16</td>\n",
              "      <td>3</td>\n",
              "      <td>3</td>\n",
              "      <td>25.0</td>\n",
              "      <td>6.0</td>\n",
              "      <td>1.0</td>\n",
              "      <td>37</td>\n",
              "      <td>74.0</td>\n",
              "      <td>3.0</td>\n",
              "      <td>6.0</td>\n",
              "      <td>4.0</td>\n",
              "      <td>1.0</td>\n",
              "      <td>11.0</td>\n",
              "    </tr>\n",
              "    <tr>\n",
              "      <th>89533</th>\n",
              "      <td>aloumo01</td>\n",
              "      <td>2007</td>\n",
              "      <td>1</td>\n",
              "      <td>NYN</td>\n",
              "      <td>NL</td>\n",
              "      <td>87</td>\n",
              "      <td>328</td>\n",
              "      <td>51</td>\n",
              "      <td>112</td>\n",
              "      <td>19</td>\n",
              "      <td>1</td>\n",
              "      <td>13</td>\n",
              "      <td>49.0</td>\n",
              "      <td>3.0</td>\n",
              "      <td>0.0</td>\n",
              "      <td>27</td>\n",
              "      <td>30.0</td>\n",
              "      <td>5.0</td>\n",
              "      <td>2.0</td>\n",
              "      <td>0.0</td>\n",
              "      <td>3.0</td>\n",
              "      <td>13.0</td>\n",
              "    </tr>\n",
              "    <tr>\n",
              "      <th>89534</th>\n",
              "      <td>alomasa02</td>\n",
              "      <td>2007</td>\n",
              "      <td>1</td>\n",
              "      <td>NYN</td>\n",
              "      <td>NL</td>\n",
              "      <td>8</td>\n",
              "      <td>22</td>\n",
              "      <td>1</td>\n",
              "      <td>3</td>\n",
              "      <td>1</td>\n",
              "      <td>0</td>\n",
              "      <td>0</td>\n",
              "      <td>0.0</td>\n",
              "      <td>0.0</td>\n",
              "      <td>0.0</td>\n",
              "      <td>0</td>\n",
              "      <td>3.0</td>\n",
              "      <td>0.0</td>\n",
              "      <td>0.0</td>\n",
              "      <td>0.0</td>\n",
              "      <td>0.0</td>\n",
              "      <td>0.0</td>\n",
              "    </tr>\n",
              "  </tbody>\n",
              "</table>\n",
              "<p>100 rows × 22 columns</p>\n",
              "</div>\n",
              "      <button class=\"colab-df-convert\" onclick=\"convertToInteractive('df-bf4124f3-c027-44e8-ad8e-291867b80700')\"\n",
              "              title=\"Convert this dataframe to an interactive table.\"\n",
              "              style=\"display:none;\">\n",
              "        \n",
              "  <svg xmlns=\"http://www.w3.org/2000/svg\" height=\"24px\"viewBox=\"0 0 24 24\"\n",
              "       width=\"24px\">\n",
              "    <path d=\"M0 0h24v24H0V0z\" fill=\"none\"/>\n",
              "    <path d=\"M18.56 5.44l.94 2.06.94-2.06 2.06-.94-2.06-.94-.94-2.06-.94 2.06-2.06.94zm-11 1L8.5 8.5l.94-2.06 2.06-.94-2.06-.94L8.5 2.5l-.94 2.06-2.06.94zm10 10l.94 2.06.94-2.06 2.06-.94-2.06-.94-.94-2.06-.94 2.06-2.06.94z\"/><path d=\"M17.41 7.96l-1.37-1.37c-.4-.4-.92-.59-1.43-.59-.52 0-1.04.2-1.43.59L10.3 9.45l-7.72 7.72c-.78.78-.78 2.05 0 2.83L4 21.41c.39.39.9.59 1.41.59.51 0 1.02-.2 1.41-.59l7.78-7.78 2.81-2.81c.8-.78.8-2.07 0-2.86zM5.41 20L4 18.59l7.72-7.72 1.47 1.35L5.41 20z\"/>\n",
              "  </svg>\n",
              "      </button>\n",
              "      \n",
              "  <style>\n",
              "    .colab-df-container {\n",
              "      display:flex;\n",
              "      flex-wrap:wrap;\n",
              "      gap: 12px;\n",
              "    }\n",
              "\n",
              "    .colab-df-convert {\n",
              "      background-color: #E8F0FE;\n",
              "      border: none;\n",
              "      border-radius: 50%;\n",
              "      cursor: pointer;\n",
              "      display: none;\n",
              "      fill: #1967D2;\n",
              "      height: 32px;\n",
              "      padding: 0 0 0 0;\n",
              "      width: 32px;\n",
              "    }\n",
              "\n",
              "    .colab-df-convert:hover {\n",
              "      background-color: #E2EBFA;\n",
              "      box-shadow: 0px 1px 2px rgba(60, 64, 67, 0.3), 0px 1px 3px 1px rgba(60, 64, 67, 0.15);\n",
              "      fill: #174EA6;\n",
              "    }\n",
              "\n",
              "    [theme=dark] .colab-df-convert {\n",
              "      background-color: #3B4455;\n",
              "      fill: #D2E3FC;\n",
              "    }\n",
              "\n",
              "    [theme=dark] .colab-df-convert:hover {\n",
              "      background-color: #434B5C;\n",
              "      box-shadow: 0px 1px 3px 1px rgba(0, 0, 0, 0.15);\n",
              "      filter: drop-shadow(0px 1px 2px rgba(0, 0, 0, 0.3));\n",
              "      fill: #FFFFFF;\n",
              "    }\n",
              "  </style>\n",
              "\n",
              "      <script>\n",
              "        const buttonEl =\n",
              "          document.querySelector('#df-bf4124f3-c027-44e8-ad8e-291867b80700 button.colab-df-convert');\n",
              "        buttonEl.style.display =\n",
              "          google.colab.kernel.accessAllowed ? 'block' : 'none';\n",
              "\n",
              "        async function convertToInteractive(key) {\n",
              "          const element = document.querySelector('#df-bf4124f3-c027-44e8-ad8e-291867b80700');\n",
              "          const dataTable =\n",
              "            await google.colab.kernel.invokeFunction('convertToInteractive',\n",
              "                                                     [key], {});\n",
              "          if (!dataTable) return;\n",
              "\n",
              "          const docLinkHtml = 'Like what you see? Visit the ' +\n",
              "            '<a target=\"_blank\" href=https://colab.research.google.com/notebooks/data_table.ipynb>data table notebook</a>'\n",
              "            + ' to learn more about interactive tables.';\n",
              "          element.innerHTML = '';\n",
              "          dataTable['output_type'] = 'display_data';\n",
              "          await google.colab.output.renderOutput(dataTable, element);\n",
              "          const docLink = document.createElement('div');\n",
              "          docLink.innerHTML = docLinkHtml;\n",
              "          element.appendChild(docLink);\n",
              "        }\n",
              "      </script>\n",
              "    </div>\n",
              "  </div>\n",
              "  "
            ],
            "text/plain": [
              "          player  year  stint team  lg    g  ...    so  ibb  hbp   sh   sf  gidp\n",
              "id                                           ...                                \n",
              "88641  womacto01  2006      2  CHN  NL   19  ...   4.0  0.0  0.0  3.0  0.0   0.0\n",
              "88643  schilcu01  2006      1  BOS  AL   31  ...   1.0  0.0  0.0  0.0  0.0   0.0\n",
              "88645  myersmi01  2006      1  NYA  AL   62  ...   0.0  0.0  0.0  0.0  0.0   0.0\n",
              "88649  helliri01  2006      1  MIL  NL   20  ...   2.0  0.0  0.0  0.0  0.0   0.0\n",
              "88650  johnsra05  2006      1  NYA  AL   33  ...   4.0  0.0  0.0  0.0  0.0   0.0\n",
              "...          ...   ...    ...  ...  ..  ...  ...   ...  ...  ...  ...  ...   ...\n",
              "89525  benitar01  2007      2  FLO  NL   34  ...   0.0  0.0  0.0  0.0  0.0   0.0\n",
              "89526  benitar01  2007      1  SFN  NL   19  ...   0.0  0.0  0.0  0.0  0.0   0.0\n",
              "89530  ausmubr01  2007      1  HOU  NL  117  ...  74.0  3.0  6.0  4.0  1.0  11.0\n",
              "89533   aloumo01  2007      1  NYN  NL   87  ...  30.0  5.0  2.0  0.0  3.0  13.0\n",
              "89534  alomasa02  2007      1  NYN  NL    8  ...   3.0  0.0  0.0  0.0  0.0   0.0\n",
              "\n",
              "[100 rows x 22 columns]"
            ]
          },
          "metadata": {},
          "execution_count": 3
        }
      ],
      "source": [
        "import pandas as pd\n",
        "pd.set_option('display.max_rows', 10)\n",
        "\n",
        "DATA_PATH = 'https://raw.githubusercontent.com/fonnesbeck/Bios8366/master/data/'\n",
        "\n",
        "baseball = pd.read_csv(DATA_PATH + \"baseball.csv\", index_col='id')\n",
        "baseball"
      ]
    },
    {
      "cell_type": "markdown",
      "metadata": {
        "id": "P7Fxn08-DBDb"
      },
      "source": [
        "Notice that we specified the `id` column as the index, since it appears to be a unique identifier. We could try to create a unique index ourselves by combining `player` and `year`:"
      ]
    },
    {
      "cell_type": "code",
      "execution_count": 2,
      "metadata": {
        "id": "UTz1GwcrDBDd",
        "outputId": "ede0a9db-0bbb-4e3a-eba1-68936a11731e",
        "colab": {
          "base_uri": "https://localhost:8080/",
          "height": 423
        }
      },
      "outputs": [
        {
          "output_type": "execute_result",
          "data": {
            "text/html": [
              "\n",
              "  <div id=\"df-a09f19fc-3b98-46b1-b7cb-c7fac919ee3f\">\n",
              "    <div class=\"colab-df-container\">\n",
              "      <div>\n",
              "<style scoped>\n",
              "    .dataframe tbody tr th:only-of-type {\n",
              "        vertical-align: middle;\n",
              "    }\n",
              "\n",
              "    .dataframe tbody tr th {\n",
              "        vertical-align: top;\n",
              "    }\n",
              "\n",
              "    .dataframe thead th {\n",
              "        text-align: right;\n",
              "    }\n",
              "</style>\n",
              "<table border=\"1\" class=\"dataframe\">\n",
              "  <thead>\n",
              "    <tr style=\"text-align: right;\">\n",
              "      <th></th>\n",
              "      <th>player</th>\n",
              "      <th>year</th>\n",
              "      <th>stint</th>\n",
              "      <th>team</th>\n",
              "      <th>lg</th>\n",
              "      <th>g</th>\n",
              "      <th>ab</th>\n",
              "      <th>r</th>\n",
              "      <th>h</th>\n",
              "      <th>X2b</th>\n",
              "      <th>X3b</th>\n",
              "      <th>hr</th>\n",
              "      <th>rbi</th>\n",
              "      <th>sb</th>\n",
              "      <th>cs</th>\n",
              "      <th>bb</th>\n",
              "      <th>so</th>\n",
              "      <th>ibb</th>\n",
              "      <th>hbp</th>\n",
              "      <th>sh</th>\n",
              "      <th>sf</th>\n",
              "      <th>gidp</th>\n",
              "    </tr>\n",
              "  </thead>\n",
              "  <tbody>\n",
              "    <tr>\n",
              "      <th>womacto012006</th>\n",
              "      <td>womacto01</td>\n",
              "      <td>2006</td>\n",
              "      <td>2</td>\n",
              "      <td>CHN</td>\n",
              "      <td>NL</td>\n",
              "      <td>19</td>\n",
              "      <td>50</td>\n",
              "      <td>6</td>\n",
              "      <td>14</td>\n",
              "      <td>1</td>\n",
              "      <td>0</td>\n",
              "      <td>1</td>\n",
              "      <td>2.0</td>\n",
              "      <td>1.0</td>\n",
              "      <td>1.0</td>\n",
              "      <td>4</td>\n",
              "      <td>4.0</td>\n",
              "      <td>0.0</td>\n",
              "      <td>0.0</td>\n",
              "      <td>3.0</td>\n",
              "      <td>0.0</td>\n",
              "      <td>0.0</td>\n",
              "    </tr>\n",
              "    <tr>\n",
              "      <th>schilcu012006</th>\n",
              "      <td>schilcu01</td>\n",
              "      <td>2006</td>\n",
              "      <td>1</td>\n",
              "      <td>BOS</td>\n",
              "      <td>AL</td>\n",
              "      <td>31</td>\n",
              "      <td>2</td>\n",
              "      <td>0</td>\n",
              "      <td>1</td>\n",
              "      <td>0</td>\n",
              "      <td>0</td>\n",
              "      <td>0</td>\n",
              "      <td>0.0</td>\n",
              "      <td>0.0</td>\n",
              "      <td>0.0</td>\n",
              "      <td>0</td>\n",
              "      <td>1.0</td>\n",
              "      <td>0.0</td>\n",
              "      <td>0.0</td>\n",
              "      <td>0.0</td>\n",
              "      <td>0.0</td>\n",
              "      <td>0.0</td>\n",
              "    </tr>\n",
              "    <tr>\n",
              "      <th>myersmi012006</th>\n",
              "      <td>myersmi01</td>\n",
              "      <td>2006</td>\n",
              "      <td>1</td>\n",
              "      <td>NYA</td>\n",
              "      <td>AL</td>\n",
              "      <td>62</td>\n",
              "      <td>0</td>\n",
              "      <td>0</td>\n",
              "      <td>0</td>\n",
              "      <td>0</td>\n",
              "      <td>0</td>\n",
              "      <td>0</td>\n",
              "      <td>0.0</td>\n",
              "      <td>0.0</td>\n",
              "      <td>0.0</td>\n",
              "      <td>0</td>\n",
              "      <td>0.0</td>\n",
              "      <td>0.0</td>\n",
              "      <td>0.0</td>\n",
              "      <td>0.0</td>\n",
              "      <td>0.0</td>\n",
              "      <td>0.0</td>\n",
              "    </tr>\n",
              "    <tr>\n",
              "      <th>helliri012006</th>\n",
              "      <td>helliri01</td>\n",
              "      <td>2006</td>\n",
              "      <td>1</td>\n",
              "      <td>MIL</td>\n",
              "      <td>NL</td>\n",
              "      <td>20</td>\n",
              "      <td>3</td>\n",
              "      <td>0</td>\n",
              "      <td>0</td>\n",
              "      <td>0</td>\n",
              "      <td>0</td>\n",
              "      <td>0</td>\n",
              "      <td>0.0</td>\n",
              "      <td>0.0</td>\n",
              "      <td>0.0</td>\n",
              "      <td>0</td>\n",
              "      <td>2.0</td>\n",
              "      <td>0.0</td>\n",
              "      <td>0.0</td>\n",
              "      <td>0.0</td>\n",
              "      <td>0.0</td>\n",
              "      <td>0.0</td>\n",
              "    </tr>\n",
              "    <tr>\n",
              "      <th>johnsra052006</th>\n",
              "      <td>johnsra05</td>\n",
              "      <td>2006</td>\n",
              "      <td>1</td>\n",
              "      <td>NYA</td>\n",
              "      <td>AL</td>\n",
              "      <td>33</td>\n",
              "      <td>6</td>\n",
              "      <td>0</td>\n",
              "      <td>1</td>\n",
              "      <td>0</td>\n",
              "      <td>0</td>\n",
              "      <td>0</td>\n",
              "      <td>0.0</td>\n",
              "      <td>0.0</td>\n",
              "      <td>0.0</td>\n",
              "      <td>0</td>\n",
              "      <td>4.0</td>\n",
              "      <td>0.0</td>\n",
              "      <td>0.0</td>\n",
              "      <td>0.0</td>\n",
              "      <td>0.0</td>\n",
              "      <td>0.0</td>\n",
              "    </tr>\n",
              "    <tr>\n",
              "      <th>...</th>\n",
              "      <td>...</td>\n",
              "      <td>...</td>\n",
              "      <td>...</td>\n",
              "      <td>...</td>\n",
              "      <td>...</td>\n",
              "      <td>...</td>\n",
              "      <td>...</td>\n",
              "      <td>...</td>\n",
              "      <td>...</td>\n",
              "      <td>...</td>\n",
              "      <td>...</td>\n",
              "      <td>...</td>\n",
              "      <td>...</td>\n",
              "      <td>...</td>\n",
              "      <td>...</td>\n",
              "      <td>...</td>\n",
              "      <td>...</td>\n",
              "      <td>...</td>\n",
              "      <td>...</td>\n",
              "      <td>...</td>\n",
              "      <td>...</td>\n",
              "      <td>...</td>\n",
              "    </tr>\n",
              "    <tr>\n",
              "      <th>benitar012007</th>\n",
              "      <td>benitar01</td>\n",
              "      <td>2007</td>\n",
              "      <td>2</td>\n",
              "      <td>FLO</td>\n",
              "      <td>NL</td>\n",
              "      <td>34</td>\n",
              "      <td>0</td>\n",
              "      <td>0</td>\n",
              "      <td>0</td>\n",
              "      <td>0</td>\n",
              "      <td>0</td>\n",
              "      <td>0</td>\n",
              "      <td>0.0</td>\n",
              "      <td>0.0</td>\n",
              "      <td>0.0</td>\n",
              "      <td>0</td>\n",
              "      <td>0.0</td>\n",
              "      <td>0.0</td>\n",
              "      <td>0.0</td>\n",
              "      <td>0.0</td>\n",
              "      <td>0.0</td>\n",
              "      <td>0.0</td>\n",
              "    </tr>\n",
              "    <tr>\n",
              "      <th>benitar012007</th>\n",
              "      <td>benitar01</td>\n",
              "      <td>2007</td>\n",
              "      <td>1</td>\n",
              "      <td>SFN</td>\n",
              "      <td>NL</td>\n",
              "      <td>19</td>\n",
              "      <td>0</td>\n",
              "      <td>0</td>\n",
              "      <td>0</td>\n",
              "      <td>0</td>\n",
              "      <td>0</td>\n",
              "      <td>0</td>\n",
              "      <td>0.0</td>\n",
              "      <td>0.0</td>\n",
              "      <td>0.0</td>\n",
              "      <td>0</td>\n",
              "      <td>0.0</td>\n",
              "      <td>0.0</td>\n",
              "      <td>0.0</td>\n",
              "      <td>0.0</td>\n",
              "      <td>0.0</td>\n",
              "      <td>0.0</td>\n",
              "    </tr>\n",
              "    <tr>\n",
              "      <th>ausmubr012007</th>\n",
              "      <td>ausmubr01</td>\n",
              "      <td>2007</td>\n",
              "      <td>1</td>\n",
              "      <td>HOU</td>\n",
              "      <td>NL</td>\n",
              "      <td>117</td>\n",
              "      <td>349</td>\n",
              "      <td>38</td>\n",
              "      <td>82</td>\n",
              "      <td>16</td>\n",
              "      <td>3</td>\n",
              "      <td>3</td>\n",
              "      <td>25.0</td>\n",
              "      <td>6.0</td>\n",
              "      <td>1.0</td>\n",
              "      <td>37</td>\n",
              "      <td>74.0</td>\n",
              "      <td>3.0</td>\n",
              "      <td>6.0</td>\n",
              "      <td>4.0</td>\n",
              "      <td>1.0</td>\n",
              "      <td>11.0</td>\n",
              "    </tr>\n",
              "    <tr>\n",
              "      <th>aloumo012007</th>\n",
              "      <td>aloumo01</td>\n",
              "      <td>2007</td>\n",
              "      <td>1</td>\n",
              "      <td>NYN</td>\n",
              "      <td>NL</td>\n",
              "      <td>87</td>\n",
              "      <td>328</td>\n",
              "      <td>51</td>\n",
              "      <td>112</td>\n",
              "      <td>19</td>\n",
              "      <td>1</td>\n",
              "      <td>13</td>\n",
              "      <td>49.0</td>\n",
              "      <td>3.0</td>\n",
              "      <td>0.0</td>\n",
              "      <td>27</td>\n",
              "      <td>30.0</td>\n",
              "      <td>5.0</td>\n",
              "      <td>2.0</td>\n",
              "      <td>0.0</td>\n",
              "      <td>3.0</td>\n",
              "      <td>13.0</td>\n",
              "    </tr>\n",
              "    <tr>\n",
              "      <th>alomasa022007</th>\n",
              "      <td>alomasa02</td>\n",
              "      <td>2007</td>\n",
              "      <td>1</td>\n",
              "      <td>NYN</td>\n",
              "      <td>NL</td>\n",
              "      <td>8</td>\n",
              "      <td>22</td>\n",
              "      <td>1</td>\n",
              "      <td>3</td>\n",
              "      <td>1</td>\n",
              "      <td>0</td>\n",
              "      <td>0</td>\n",
              "      <td>0.0</td>\n",
              "      <td>0.0</td>\n",
              "      <td>0.0</td>\n",
              "      <td>0</td>\n",
              "      <td>3.0</td>\n",
              "      <td>0.0</td>\n",
              "      <td>0.0</td>\n",
              "      <td>0.0</td>\n",
              "      <td>0.0</td>\n",
              "      <td>0.0</td>\n",
              "    </tr>\n",
              "  </tbody>\n",
              "</table>\n",
              "<p>100 rows × 22 columns</p>\n",
              "</div>\n",
              "      <button class=\"colab-df-convert\" onclick=\"convertToInteractive('df-a09f19fc-3b98-46b1-b7cb-c7fac919ee3f')\"\n",
              "              title=\"Convert this dataframe to an interactive table.\"\n",
              "              style=\"display:none;\">\n",
              "        \n",
              "  <svg xmlns=\"http://www.w3.org/2000/svg\" height=\"24px\"viewBox=\"0 0 24 24\"\n",
              "       width=\"24px\">\n",
              "    <path d=\"M0 0h24v24H0V0z\" fill=\"none\"/>\n",
              "    <path d=\"M18.56 5.44l.94 2.06.94-2.06 2.06-.94-2.06-.94-.94-2.06-.94 2.06-2.06.94zm-11 1L8.5 8.5l.94-2.06 2.06-.94-2.06-.94L8.5 2.5l-.94 2.06-2.06.94zm10 10l.94 2.06.94-2.06 2.06-.94-2.06-.94-.94-2.06-.94 2.06-2.06.94z\"/><path d=\"M17.41 7.96l-1.37-1.37c-.4-.4-.92-.59-1.43-.59-.52 0-1.04.2-1.43.59L10.3 9.45l-7.72 7.72c-.78.78-.78 2.05 0 2.83L4 21.41c.39.39.9.59 1.41.59.51 0 1.02-.2 1.41-.59l7.78-7.78 2.81-2.81c.8-.78.8-2.07 0-2.86zM5.41 20L4 18.59l7.72-7.72 1.47 1.35L5.41 20z\"/>\n",
              "  </svg>\n",
              "      </button>\n",
              "      \n",
              "  <style>\n",
              "    .colab-df-container {\n",
              "      display:flex;\n",
              "      flex-wrap:wrap;\n",
              "      gap: 12px;\n",
              "    }\n",
              "\n",
              "    .colab-df-convert {\n",
              "      background-color: #E8F0FE;\n",
              "      border: none;\n",
              "      border-radius: 50%;\n",
              "      cursor: pointer;\n",
              "      display: none;\n",
              "      fill: #1967D2;\n",
              "      height: 32px;\n",
              "      padding: 0 0 0 0;\n",
              "      width: 32px;\n",
              "    }\n",
              "\n",
              "    .colab-df-convert:hover {\n",
              "      background-color: #E2EBFA;\n",
              "      box-shadow: 0px 1px 2px rgba(60, 64, 67, 0.3), 0px 1px 3px 1px rgba(60, 64, 67, 0.15);\n",
              "      fill: #174EA6;\n",
              "    }\n",
              "\n",
              "    [theme=dark] .colab-df-convert {\n",
              "      background-color: #3B4455;\n",
              "      fill: #D2E3FC;\n",
              "    }\n",
              "\n",
              "    [theme=dark] .colab-df-convert:hover {\n",
              "      background-color: #434B5C;\n",
              "      box-shadow: 0px 1px 3px 1px rgba(0, 0, 0, 0.15);\n",
              "      filter: drop-shadow(0px 1px 2px rgba(0, 0, 0, 0.3));\n",
              "      fill: #FFFFFF;\n",
              "    }\n",
              "  </style>\n",
              "\n",
              "      <script>\n",
              "        const buttonEl =\n",
              "          document.querySelector('#df-a09f19fc-3b98-46b1-b7cb-c7fac919ee3f button.colab-df-convert');\n",
              "        buttonEl.style.display =\n",
              "          google.colab.kernel.accessAllowed ? 'block' : 'none';\n",
              "\n",
              "        async function convertToInteractive(key) {\n",
              "          const element = document.querySelector('#df-a09f19fc-3b98-46b1-b7cb-c7fac919ee3f');\n",
              "          const dataTable =\n",
              "            await google.colab.kernel.invokeFunction('convertToInteractive',\n",
              "                                                     [key], {});\n",
              "          if (!dataTable) return;\n",
              "\n",
              "          const docLinkHtml = 'Like what you see? Visit the ' +\n",
              "            '<a target=\"_blank\" href=https://colab.research.google.com/notebooks/data_table.ipynb>data table notebook</a>'\n",
              "            + ' to learn more about interactive tables.';\n",
              "          element.innerHTML = '';\n",
              "          dataTable['output_type'] = 'display_data';\n",
              "          await google.colab.output.renderOutput(dataTable, element);\n",
              "          const docLink = document.createElement('div');\n",
              "          docLink.innerHTML = docLinkHtml;\n",
              "          element.appendChild(docLink);\n",
              "        }\n",
              "      </script>\n",
              "    </div>\n",
              "  </div>\n",
              "  "
            ],
            "text/plain": [
              "                  player  year  stint team  lg  ...  ibb  hbp   sh   sf  gidp\n",
              "womacto012006  womacto01  2006      2  CHN  NL  ...  0.0  0.0  3.0  0.0   0.0\n",
              "schilcu012006  schilcu01  2006      1  BOS  AL  ...  0.0  0.0  0.0  0.0   0.0\n",
              "myersmi012006  myersmi01  2006      1  NYA  AL  ...  0.0  0.0  0.0  0.0   0.0\n",
              "helliri012006  helliri01  2006      1  MIL  NL  ...  0.0  0.0  0.0  0.0   0.0\n",
              "johnsra052006  johnsra05  2006      1  NYA  AL  ...  0.0  0.0  0.0  0.0   0.0\n",
              "...                  ...   ...    ...  ...  ..  ...  ...  ...  ...  ...   ...\n",
              "benitar012007  benitar01  2007      2  FLO  NL  ...  0.0  0.0  0.0  0.0   0.0\n",
              "benitar012007  benitar01  2007      1  SFN  NL  ...  0.0  0.0  0.0  0.0   0.0\n",
              "ausmubr012007  ausmubr01  2007      1  HOU  NL  ...  3.0  6.0  4.0  1.0  11.0\n",
              "aloumo012007    aloumo01  2007      1  NYN  NL  ...  5.0  2.0  0.0  3.0  13.0\n",
              "alomasa022007  alomasa02  2007      1  NYN  NL  ...  0.0  0.0  0.0  0.0   0.0\n",
              "\n",
              "[100 rows x 22 columns]"
            ]
          },
          "metadata": {},
          "execution_count": 2
        }
      ],
      "source": [
        "player_id = baseball.player + baseball.year.astype(str)\n",
        "baseball_newind = baseball.copy()\n",
        "baseball_newind.index = player_id\n",
        "baseball_newind"
      ]
    },
    {
      "cell_type": "markdown",
      "metadata": {
        "id": "S5_y-7CKDBDf"
      },
      "source": [
        "This looks okay, but let's check:"
      ]
    },
    {
      "cell_type": "code",
      "execution_count": 4,
      "metadata": {
        "id": "CV6V4sNXDBDg",
        "outputId": "4a8d774a-796b-43e2-c133-a7c6fa21e658",
        "colab": {
          "base_uri": "https://localhost:8080/"
        }
      },
      "outputs": [
        {
          "output_type": "execute_result",
          "data": {
            "text/plain": [
              "False"
            ]
          },
          "metadata": {},
          "execution_count": 4
        }
      ],
      "source": [
        "baseball_newind.index.is_unique"
      ]
    },
    {
      "cell_type": "markdown",
      "metadata": {
        "id": "qbU-c6ogDBDi"
      },
      "source": [
        "So, indices need not be unique. Our choice is not unique because some players change teams within years."
      ]
    },
    {
      "cell_type": "code",
      "execution_count": 5,
      "metadata": {
        "id": "iciFa6k0DBDj",
        "outputId": "90667308-63be-42fe-b356-c3de6ccda37f",
        "colab": {
          "base_uri": "https://localhost:8080/"
        }
      },
      "outputs": [
        {
          "output_type": "execute_result",
          "data": {
            "text/plain": [
              "wellsda012007    2\n",
              "francju012007    2\n",
              "wickmbo012007    2\n",
              "gomezch022007    2\n",
              "benitar012007    2\n",
              "                ..\n",
              "floydcl012007    1\n",
              "williwo022007    1\n",
              "seleaa012007     1\n",
              "finlest012006    1\n",
              "stinnke012007    1\n",
              "Length: 88, dtype: int64"
            ]
          },
          "metadata": {},
          "execution_count": 5
        }
      ],
      "source": [
        "pd.Series(baseball_newind.index).value_counts()"
      ]
    },
    {
      "cell_type": "markdown",
      "metadata": {
        "id": "TNMhabtcDBDl"
      },
      "source": [
        "The most important consequence of a non-unique index is that indexing by label will return multiple values for some labels:"
      ]
    },
    {
      "cell_type": "code",
      "execution_count": 6,
      "metadata": {
        "id": "wXBe7sz5DBDo",
        "outputId": "8edb0562-a6ef-4d54-bbad-b0db7c2a8b69",
        "colab": {
          "base_uri": "https://localhost:8080/",
          "height": 112
        }
      },
      "outputs": [
        {
          "output_type": "execute_result",
          "data": {
            "text/html": [
              "\n",
              "  <div id=\"df-70352633-16e9-4d2f-b2b8-5f22f2f54eca\">\n",
              "    <div class=\"colab-df-container\">\n",
              "      <div>\n",
              "<style scoped>\n",
              "    .dataframe tbody tr th:only-of-type {\n",
              "        vertical-align: middle;\n",
              "    }\n",
              "\n",
              "    .dataframe tbody tr th {\n",
              "        vertical-align: top;\n",
              "    }\n",
              "\n",
              "    .dataframe thead th {\n",
              "        text-align: right;\n",
              "    }\n",
              "</style>\n",
              "<table border=\"1\" class=\"dataframe\">\n",
              "  <thead>\n",
              "    <tr style=\"text-align: right;\">\n",
              "      <th></th>\n",
              "      <th>player</th>\n",
              "      <th>year</th>\n",
              "      <th>stint</th>\n",
              "      <th>team</th>\n",
              "      <th>lg</th>\n",
              "      <th>g</th>\n",
              "      <th>ab</th>\n",
              "      <th>r</th>\n",
              "      <th>h</th>\n",
              "      <th>X2b</th>\n",
              "      <th>X3b</th>\n",
              "      <th>hr</th>\n",
              "      <th>rbi</th>\n",
              "      <th>sb</th>\n",
              "      <th>cs</th>\n",
              "      <th>bb</th>\n",
              "      <th>so</th>\n",
              "      <th>ibb</th>\n",
              "      <th>hbp</th>\n",
              "      <th>sh</th>\n",
              "      <th>sf</th>\n",
              "      <th>gidp</th>\n",
              "    </tr>\n",
              "  </thead>\n",
              "  <tbody>\n",
              "    <tr>\n",
              "      <th>wickmbo012007</th>\n",
              "      <td>wickmbo01</td>\n",
              "      <td>2007</td>\n",
              "      <td>2</td>\n",
              "      <td>ARI</td>\n",
              "      <td>NL</td>\n",
              "      <td>8</td>\n",
              "      <td>0</td>\n",
              "      <td>0</td>\n",
              "      <td>0</td>\n",
              "      <td>0</td>\n",
              "      <td>0</td>\n",
              "      <td>0</td>\n",
              "      <td>0.0</td>\n",
              "      <td>0.0</td>\n",
              "      <td>0.0</td>\n",
              "      <td>0</td>\n",
              "      <td>0.0</td>\n",
              "      <td>0.0</td>\n",
              "      <td>0.0</td>\n",
              "      <td>0.0</td>\n",
              "      <td>0.0</td>\n",
              "      <td>0.0</td>\n",
              "    </tr>\n",
              "    <tr>\n",
              "      <th>wickmbo012007</th>\n",
              "      <td>wickmbo01</td>\n",
              "      <td>2007</td>\n",
              "      <td>1</td>\n",
              "      <td>ATL</td>\n",
              "      <td>NL</td>\n",
              "      <td>47</td>\n",
              "      <td>0</td>\n",
              "      <td>0</td>\n",
              "      <td>0</td>\n",
              "      <td>0</td>\n",
              "      <td>0</td>\n",
              "      <td>0</td>\n",
              "      <td>0.0</td>\n",
              "      <td>0.0</td>\n",
              "      <td>0.0</td>\n",
              "      <td>0</td>\n",
              "      <td>0.0</td>\n",
              "      <td>0.0</td>\n",
              "      <td>0.0</td>\n",
              "      <td>0.0</td>\n",
              "      <td>0.0</td>\n",
              "      <td>0.0</td>\n",
              "    </tr>\n",
              "  </tbody>\n",
              "</table>\n",
              "</div>\n",
              "      <button class=\"colab-df-convert\" onclick=\"convertToInteractive('df-70352633-16e9-4d2f-b2b8-5f22f2f54eca')\"\n",
              "              title=\"Convert this dataframe to an interactive table.\"\n",
              "              style=\"display:none;\">\n",
              "        \n",
              "  <svg xmlns=\"http://www.w3.org/2000/svg\" height=\"24px\"viewBox=\"0 0 24 24\"\n",
              "       width=\"24px\">\n",
              "    <path d=\"M0 0h24v24H0V0z\" fill=\"none\"/>\n",
              "    <path d=\"M18.56 5.44l.94 2.06.94-2.06 2.06-.94-2.06-.94-.94-2.06-.94 2.06-2.06.94zm-11 1L8.5 8.5l.94-2.06 2.06-.94-2.06-.94L8.5 2.5l-.94 2.06-2.06.94zm10 10l.94 2.06.94-2.06 2.06-.94-2.06-.94-.94-2.06-.94 2.06-2.06.94z\"/><path d=\"M17.41 7.96l-1.37-1.37c-.4-.4-.92-.59-1.43-.59-.52 0-1.04.2-1.43.59L10.3 9.45l-7.72 7.72c-.78.78-.78 2.05 0 2.83L4 21.41c.39.39.9.59 1.41.59.51 0 1.02-.2 1.41-.59l7.78-7.78 2.81-2.81c.8-.78.8-2.07 0-2.86zM5.41 20L4 18.59l7.72-7.72 1.47 1.35L5.41 20z\"/>\n",
              "  </svg>\n",
              "      </button>\n",
              "      \n",
              "  <style>\n",
              "    .colab-df-container {\n",
              "      display:flex;\n",
              "      flex-wrap:wrap;\n",
              "      gap: 12px;\n",
              "    }\n",
              "\n",
              "    .colab-df-convert {\n",
              "      background-color: #E8F0FE;\n",
              "      border: none;\n",
              "      border-radius: 50%;\n",
              "      cursor: pointer;\n",
              "      display: none;\n",
              "      fill: #1967D2;\n",
              "      height: 32px;\n",
              "      padding: 0 0 0 0;\n",
              "      width: 32px;\n",
              "    }\n",
              "\n",
              "    .colab-df-convert:hover {\n",
              "      background-color: #E2EBFA;\n",
              "      box-shadow: 0px 1px 2px rgba(60, 64, 67, 0.3), 0px 1px 3px 1px rgba(60, 64, 67, 0.15);\n",
              "      fill: #174EA6;\n",
              "    }\n",
              "\n",
              "    [theme=dark] .colab-df-convert {\n",
              "      background-color: #3B4455;\n",
              "      fill: #D2E3FC;\n",
              "    }\n",
              "\n",
              "    [theme=dark] .colab-df-convert:hover {\n",
              "      background-color: #434B5C;\n",
              "      box-shadow: 0px 1px 3px 1px rgba(0, 0, 0, 0.15);\n",
              "      filter: drop-shadow(0px 1px 2px rgba(0, 0, 0, 0.3));\n",
              "      fill: #FFFFFF;\n",
              "    }\n",
              "  </style>\n",
              "\n",
              "      <script>\n",
              "        const buttonEl =\n",
              "          document.querySelector('#df-70352633-16e9-4d2f-b2b8-5f22f2f54eca button.colab-df-convert');\n",
              "        buttonEl.style.display =\n",
              "          google.colab.kernel.accessAllowed ? 'block' : 'none';\n",
              "\n",
              "        async function convertToInteractive(key) {\n",
              "          const element = document.querySelector('#df-70352633-16e9-4d2f-b2b8-5f22f2f54eca');\n",
              "          const dataTable =\n",
              "            await google.colab.kernel.invokeFunction('convertToInteractive',\n",
              "                                                     [key], {});\n",
              "          if (!dataTable) return;\n",
              "\n",
              "          const docLinkHtml = 'Like what you see? Visit the ' +\n",
              "            '<a target=\"_blank\" href=https://colab.research.google.com/notebooks/data_table.ipynb>data table notebook</a>'\n",
              "            + ' to learn more about interactive tables.';\n",
              "          element.innerHTML = '';\n",
              "          dataTable['output_type'] = 'display_data';\n",
              "          await google.colab.output.renderOutput(dataTable, element);\n",
              "          const docLink = document.createElement('div');\n",
              "          docLink.innerHTML = docLinkHtml;\n",
              "          element.appendChild(docLink);\n",
              "        }\n",
              "      </script>\n",
              "    </div>\n",
              "  </div>\n",
              "  "
            ],
            "text/plain": [
              "                  player  year  stint team  lg  ...  ibb  hbp   sh   sf  gidp\n",
              "wickmbo012007  wickmbo01  2007      2  ARI  NL  ...  0.0  0.0  0.0  0.0   0.0\n",
              "wickmbo012007  wickmbo01  2007      1  ATL  NL  ...  0.0  0.0  0.0  0.0   0.0\n",
              "\n",
              "[2 rows x 22 columns]"
            ]
          },
          "metadata": {},
          "execution_count": 6
        }
      ],
      "source": [
        "baseball_newind.loc['wickmbo012007']"
      ]
    },
    {
      "cell_type": "markdown",
      "metadata": {
        "id": "N27bu_nxDBDr"
      },
      "source": [
        "We will learn more about indexing below."
      ]
    },
    {
      "cell_type": "markdown",
      "metadata": {
        "id": "3QV-edd3DBDs"
      },
      "source": [
        "We can create a truly unique index by combining `player`, `team` and `year`:"
      ]
    },
    {
      "cell_type": "code",
      "execution_count": 7,
      "metadata": {
        "id": "28bt77Z9DBDu",
        "outputId": "1cba620b-8a5b-4fa6-9083-d983d18c4cbc",
        "colab": {
          "base_uri": "https://localhost:8080/",
          "height": 206
        }
      },
      "outputs": [
        {
          "output_type": "execute_result",
          "data": {
            "text/html": [
              "\n",
              "  <div id=\"df-d69f49dc-e7cd-4d28-be15-d2f27b871563\">\n",
              "    <div class=\"colab-df-container\">\n",
              "      <div>\n",
              "<style scoped>\n",
              "    .dataframe tbody tr th:only-of-type {\n",
              "        vertical-align: middle;\n",
              "    }\n",
              "\n",
              "    .dataframe tbody tr th {\n",
              "        vertical-align: top;\n",
              "    }\n",
              "\n",
              "    .dataframe thead th {\n",
              "        text-align: right;\n",
              "    }\n",
              "</style>\n",
              "<table border=\"1\" class=\"dataframe\">\n",
              "  <thead>\n",
              "    <tr style=\"text-align: right;\">\n",
              "      <th></th>\n",
              "      <th>player</th>\n",
              "      <th>year</th>\n",
              "      <th>stint</th>\n",
              "      <th>team</th>\n",
              "      <th>lg</th>\n",
              "      <th>g</th>\n",
              "      <th>ab</th>\n",
              "      <th>r</th>\n",
              "      <th>h</th>\n",
              "      <th>X2b</th>\n",
              "      <th>X3b</th>\n",
              "      <th>hr</th>\n",
              "      <th>rbi</th>\n",
              "      <th>sb</th>\n",
              "      <th>cs</th>\n",
              "      <th>bb</th>\n",
              "      <th>so</th>\n",
              "      <th>ibb</th>\n",
              "      <th>hbp</th>\n",
              "      <th>sh</th>\n",
              "      <th>sf</th>\n",
              "      <th>gidp</th>\n",
              "    </tr>\n",
              "  </thead>\n",
              "  <tbody>\n",
              "    <tr>\n",
              "      <th>womacto01CHN2006</th>\n",
              "      <td>womacto01</td>\n",
              "      <td>2006</td>\n",
              "      <td>2</td>\n",
              "      <td>CHN</td>\n",
              "      <td>NL</td>\n",
              "      <td>19</td>\n",
              "      <td>50</td>\n",
              "      <td>6</td>\n",
              "      <td>14</td>\n",
              "      <td>1</td>\n",
              "      <td>0</td>\n",
              "      <td>1</td>\n",
              "      <td>2.0</td>\n",
              "      <td>1.0</td>\n",
              "      <td>1.0</td>\n",
              "      <td>4</td>\n",
              "      <td>4.0</td>\n",
              "      <td>0.0</td>\n",
              "      <td>0.0</td>\n",
              "      <td>3.0</td>\n",
              "      <td>0.0</td>\n",
              "      <td>0.0</td>\n",
              "    </tr>\n",
              "    <tr>\n",
              "      <th>schilcu01BOS2006</th>\n",
              "      <td>schilcu01</td>\n",
              "      <td>2006</td>\n",
              "      <td>1</td>\n",
              "      <td>BOS</td>\n",
              "      <td>AL</td>\n",
              "      <td>31</td>\n",
              "      <td>2</td>\n",
              "      <td>0</td>\n",
              "      <td>1</td>\n",
              "      <td>0</td>\n",
              "      <td>0</td>\n",
              "      <td>0</td>\n",
              "      <td>0.0</td>\n",
              "      <td>0.0</td>\n",
              "      <td>0.0</td>\n",
              "      <td>0</td>\n",
              "      <td>1.0</td>\n",
              "      <td>0.0</td>\n",
              "      <td>0.0</td>\n",
              "      <td>0.0</td>\n",
              "      <td>0.0</td>\n",
              "      <td>0.0</td>\n",
              "    </tr>\n",
              "    <tr>\n",
              "      <th>myersmi01NYA2006</th>\n",
              "      <td>myersmi01</td>\n",
              "      <td>2006</td>\n",
              "      <td>1</td>\n",
              "      <td>NYA</td>\n",
              "      <td>AL</td>\n",
              "      <td>62</td>\n",
              "      <td>0</td>\n",
              "      <td>0</td>\n",
              "      <td>0</td>\n",
              "      <td>0</td>\n",
              "      <td>0</td>\n",
              "      <td>0</td>\n",
              "      <td>0.0</td>\n",
              "      <td>0.0</td>\n",
              "      <td>0.0</td>\n",
              "      <td>0</td>\n",
              "      <td>0.0</td>\n",
              "      <td>0.0</td>\n",
              "      <td>0.0</td>\n",
              "      <td>0.0</td>\n",
              "      <td>0.0</td>\n",
              "      <td>0.0</td>\n",
              "    </tr>\n",
              "    <tr>\n",
              "      <th>helliri01MIL2006</th>\n",
              "      <td>helliri01</td>\n",
              "      <td>2006</td>\n",
              "      <td>1</td>\n",
              "      <td>MIL</td>\n",
              "      <td>NL</td>\n",
              "      <td>20</td>\n",
              "      <td>3</td>\n",
              "      <td>0</td>\n",
              "      <td>0</td>\n",
              "      <td>0</td>\n",
              "      <td>0</td>\n",
              "      <td>0</td>\n",
              "      <td>0.0</td>\n",
              "      <td>0.0</td>\n",
              "      <td>0.0</td>\n",
              "      <td>0</td>\n",
              "      <td>2.0</td>\n",
              "      <td>0.0</td>\n",
              "      <td>0.0</td>\n",
              "      <td>0.0</td>\n",
              "      <td>0.0</td>\n",
              "      <td>0.0</td>\n",
              "    </tr>\n",
              "    <tr>\n",
              "      <th>johnsra05NYA2006</th>\n",
              "      <td>johnsra05</td>\n",
              "      <td>2006</td>\n",
              "      <td>1</td>\n",
              "      <td>NYA</td>\n",
              "      <td>AL</td>\n",
              "      <td>33</td>\n",
              "      <td>6</td>\n",
              "      <td>0</td>\n",
              "      <td>1</td>\n",
              "      <td>0</td>\n",
              "      <td>0</td>\n",
              "      <td>0</td>\n",
              "      <td>0.0</td>\n",
              "      <td>0.0</td>\n",
              "      <td>0.0</td>\n",
              "      <td>0</td>\n",
              "      <td>4.0</td>\n",
              "      <td>0.0</td>\n",
              "      <td>0.0</td>\n",
              "      <td>0.0</td>\n",
              "      <td>0.0</td>\n",
              "      <td>0.0</td>\n",
              "    </tr>\n",
              "  </tbody>\n",
              "</table>\n",
              "</div>\n",
              "      <button class=\"colab-df-convert\" onclick=\"convertToInteractive('df-d69f49dc-e7cd-4d28-be15-d2f27b871563')\"\n",
              "              title=\"Convert this dataframe to an interactive table.\"\n",
              "              style=\"display:none;\">\n",
              "        \n",
              "  <svg xmlns=\"http://www.w3.org/2000/svg\" height=\"24px\"viewBox=\"0 0 24 24\"\n",
              "       width=\"24px\">\n",
              "    <path d=\"M0 0h24v24H0V0z\" fill=\"none\"/>\n",
              "    <path d=\"M18.56 5.44l.94 2.06.94-2.06 2.06-.94-2.06-.94-.94-2.06-.94 2.06-2.06.94zm-11 1L8.5 8.5l.94-2.06 2.06-.94-2.06-.94L8.5 2.5l-.94 2.06-2.06.94zm10 10l.94 2.06.94-2.06 2.06-.94-2.06-.94-.94-2.06-.94 2.06-2.06.94z\"/><path d=\"M17.41 7.96l-1.37-1.37c-.4-.4-.92-.59-1.43-.59-.52 0-1.04.2-1.43.59L10.3 9.45l-7.72 7.72c-.78.78-.78 2.05 0 2.83L4 21.41c.39.39.9.59 1.41.59.51 0 1.02-.2 1.41-.59l7.78-7.78 2.81-2.81c.8-.78.8-2.07 0-2.86zM5.41 20L4 18.59l7.72-7.72 1.47 1.35L5.41 20z\"/>\n",
              "  </svg>\n",
              "      </button>\n",
              "      \n",
              "  <style>\n",
              "    .colab-df-container {\n",
              "      display:flex;\n",
              "      flex-wrap:wrap;\n",
              "      gap: 12px;\n",
              "    }\n",
              "\n",
              "    .colab-df-convert {\n",
              "      background-color: #E8F0FE;\n",
              "      border: none;\n",
              "      border-radius: 50%;\n",
              "      cursor: pointer;\n",
              "      display: none;\n",
              "      fill: #1967D2;\n",
              "      height: 32px;\n",
              "      padding: 0 0 0 0;\n",
              "      width: 32px;\n",
              "    }\n",
              "\n",
              "    .colab-df-convert:hover {\n",
              "      background-color: #E2EBFA;\n",
              "      box-shadow: 0px 1px 2px rgba(60, 64, 67, 0.3), 0px 1px 3px 1px rgba(60, 64, 67, 0.15);\n",
              "      fill: #174EA6;\n",
              "    }\n",
              "\n",
              "    [theme=dark] .colab-df-convert {\n",
              "      background-color: #3B4455;\n",
              "      fill: #D2E3FC;\n",
              "    }\n",
              "\n",
              "    [theme=dark] .colab-df-convert:hover {\n",
              "      background-color: #434B5C;\n",
              "      box-shadow: 0px 1px 3px 1px rgba(0, 0, 0, 0.15);\n",
              "      filter: drop-shadow(0px 1px 2px rgba(0, 0, 0, 0.3));\n",
              "      fill: #FFFFFF;\n",
              "    }\n",
              "  </style>\n",
              "\n",
              "      <script>\n",
              "        const buttonEl =\n",
              "          document.querySelector('#df-d69f49dc-e7cd-4d28-be15-d2f27b871563 button.colab-df-convert');\n",
              "        buttonEl.style.display =\n",
              "          google.colab.kernel.accessAllowed ? 'block' : 'none';\n",
              "\n",
              "        async function convertToInteractive(key) {\n",
              "          const element = document.querySelector('#df-d69f49dc-e7cd-4d28-be15-d2f27b871563');\n",
              "          const dataTable =\n",
              "            await google.colab.kernel.invokeFunction('convertToInteractive',\n",
              "                                                     [key], {});\n",
              "          if (!dataTable) return;\n",
              "\n",
              "          const docLinkHtml = 'Like what you see? Visit the ' +\n",
              "            '<a target=\"_blank\" href=https://colab.research.google.com/notebooks/data_table.ipynb>data table notebook</a>'\n",
              "            + ' to learn more about interactive tables.';\n",
              "          element.innerHTML = '';\n",
              "          dataTable['output_type'] = 'display_data';\n",
              "          await google.colab.output.renderOutput(dataTable, element);\n",
              "          const docLink = document.createElement('div');\n",
              "          docLink.innerHTML = docLinkHtml;\n",
              "          element.appendChild(docLink);\n",
              "        }\n",
              "      </script>\n",
              "    </div>\n",
              "  </div>\n",
              "  "
            ],
            "text/plain": [
              "                     player  year  stint team  lg  ...  ibb  hbp   sh   sf  gidp\n",
              "womacto01CHN2006  womacto01  2006      2  CHN  NL  ...  0.0  0.0  3.0  0.0   0.0\n",
              "schilcu01BOS2006  schilcu01  2006      1  BOS  AL  ...  0.0  0.0  0.0  0.0   0.0\n",
              "myersmi01NYA2006  myersmi01  2006      1  NYA  AL  ...  0.0  0.0  0.0  0.0   0.0\n",
              "helliri01MIL2006  helliri01  2006      1  MIL  NL  ...  0.0  0.0  0.0  0.0   0.0\n",
              "johnsra05NYA2006  johnsra05  2006      1  NYA  AL  ...  0.0  0.0  0.0  0.0   0.0\n",
              "\n",
              "[5 rows x 22 columns]"
            ]
          },
          "metadata": {},
          "execution_count": 7
        }
      ],
      "source": [
        "player_unique = baseball.player + baseball.team + baseball.year.astype(str)\n",
        "baseball_newind = baseball.copy()\n",
        "baseball_newind.index = player_unique\n",
        "baseball_newind.head()"
      ]
    },
    {
      "cell_type": "code",
      "execution_count": 8,
      "metadata": {
        "id": "-nt_Js9ODBDw",
        "outputId": "956705e7-c9d4-4a1d-c84b-a3ba480878ef",
        "colab": {
          "base_uri": "https://localhost:8080/"
        }
      },
      "outputs": [
        {
          "output_type": "execute_result",
          "data": {
            "text/plain": [
              "True"
            ]
          },
          "metadata": {},
          "execution_count": 8
        }
      ],
      "source": [
        "baseball_newind.index.is_unique"
      ]
    },
    {
      "cell_type": "markdown",
      "metadata": {
        "id": "Pnuq5vesDBDx"
      },
      "source": [
        "We can create meaningful indices more easily using a hierarchical index; for now, we will stick with the numeric `id` field as our index."
      ]
    },
    {
      "cell_type": "markdown",
      "metadata": {
        "id": "1LWUoccWDBDy"
      },
      "source": [
        "### Manipulating indices\n",
        "\n",
        "**Reindexing** allows users to manipulate the data labels in a DataFrame. It forces a DataFrame to conform to the new index, and optionally, fill in missing data if requested.\n",
        "\n",
        "A simple use of `reindex` is to alter the order of the rows:"
      ]
    },
    {
      "cell_type": "code",
      "execution_count": 10,
      "metadata": {
        "id": "YOW6RjIjDBDz",
        "outputId": "73f0b0d0-4c97-44f7-af0a-793402071dce",
        "colab": {
          "base_uri": "https://localhost:8080/",
          "height": 237
        }
      },
      "outputs": [
        {
          "output_type": "execute_result",
          "data": {
            "text/html": [
              "\n",
              "  <div id=\"df-f90e22b8-90a0-462b-a84e-fd7feb27b434\">\n",
              "    <div class=\"colab-df-container\">\n",
              "      <div>\n",
              "<style scoped>\n",
              "    .dataframe tbody tr th:only-of-type {\n",
              "        vertical-align: middle;\n",
              "    }\n",
              "\n",
              "    .dataframe tbody tr th {\n",
              "        vertical-align: top;\n",
              "    }\n",
              "\n",
              "    .dataframe thead th {\n",
              "        text-align: right;\n",
              "    }\n",
              "</style>\n",
              "<table border=\"1\" class=\"dataframe\">\n",
              "  <thead>\n",
              "    <tr style=\"text-align: right;\">\n",
              "      <th></th>\n",
              "      <th>player</th>\n",
              "      <th>year</th>\n",
              "      <th>stint</th>\n",
              "      <th>team</th>\n",
              "      <th>lg</th>\n",
              "      <th>g</th>\n",
              "      <th>ab</th>\n",
              "      <th>r</th>\n",
              "      <th>h</th>\n",
              "      <th>X2b</th>\n",
              "      <th>X3b</th>\n",
              "      <th>hr</th>\n",
              "      <th>rbi</th>\n",
              "      <th>sb</th>\n",
              "      <th>cs</th>\n",
              "      <th>bb</th>\n",
              "      <th>so</th>\n",
              "      <th>ibb</th>\n",
              "      <th>hbp</th>\n",
              "      <th>sh</th>\n",
              "      <th>sf</th>\n",
              "      <th>gidp</th>\n",
              "    </tr>\n",
              "    <tr>\n",
              "      <th>id</th>\n",
              "      <th></th>\n",
              "      <th></th>\n",
              "      <th></th>\n",
              "      <th></th>\n",
              "      <th></th>\n",
              "      <th></th>\n",
              "      <th></th>\n",
              "      <th></th>\n",
              "      <th></th>\n",
              "      <th></th>\n",
              "      <th></th>\n",
              "      <th></th>\n",
              "      <th></th>\n",
              "      <th></th>\n",
              "      <th></th>\n",
              "      <th></th>\n",
              "      <th></th>\n",
              "      <th></th>\n",
              "      <th></th>\n",
              "      <th></th>\n",
              "      <th></th>\n",
              "      <th></th>\n",
              "    </tr>\n",
              "  </thead>\n",
              "  <tbody>\n",
              "    <tr>\n",
              "      <th>88641</th>\n",
              "      <td>womacto01</td>\n",
              "      <td>2006</td>\n",
              "      <td>2</td>\n",
              "      <td>CHN</td>\n",
              "      <td>NL</td>\n",
              "      <td>19</td>\n",
              "      <td>50</td>\n",
              "      <td>6</td>\n",
              "      <td>14</td>\n",
              "      <td>1</td>\n",
              "      <td>0</td>\n",
              "      <td>1</td>\n",
              "      <td>2.0</td>\n",
              "      <td>1.0</td>\n",
              "      <td>1.0</td>\n",
              "      <td>4</td>\n",
              "      <td>4.0</td>\n",
              "      <td>0.0</td>\n",
              "      <td>0.0</td>\n",
              "      <td>3.0</td>\n",
              "      <td>0.0</td>\n",
              "      <td>0.0</td>\n",
              "    </tr>\n",
              "    <tr>\n",
              "      <th>88643</th>\n",
              "      <td>schilcu01</td>\n",
              "      <td>2006</td>\n",
              "      <td>1</td>\n",
              "      <td>BOS</td>\n",
              "      <td>AL</td>\n",
              "      <td>31</td>\n",
              "      <td>2</td>\n",
              "      <td>0</td>\n",
              "      <td>1</td>\n",
              "      <td>0</td>\n",
              "      <td>0</td>\n",
              "      <td>0</td>\n",
              "      <td>0.0</td>\n",
              "      <td>0.0</td>\n",
              "      <td>0.0</td>\n",
              "      <td>0</td>\n",
              "      <td>1.0</td>\n",
              "      <td>0.0</td>\n",
              "      <td>0.0</td>\n",
              "      <td>0.0</td>\n",
              "      <td>0.0</td>\n",
              "      <td>0.0</td>\n",
              "    </tr>\n",
              "    <tr>\n",
              "      <th>88645</th>\n",
              "      <td>myersmi01</td>\n",
              "      <td>2006</td>\n",
              "      <td>1</td>\n",
              "      <td>NYA</td>\n",
              "      <td>AL</td>\n",
              "      <td>62</td>\n",
              "      <td>0</td>\n",
              "      <td>0</td>\n",
              "      <td>0</td>\n",
              "      <td>0</td>\n",
              "      <td>0</td>\n",
              "      <td>0</td>\n",
              "      <td>0.0</td>\n",
              "      <td>0.0</td>\n",
              "      <td>0.0</td>\n",
              "      <td>0</td>\n",
              "      <td>0.0</td>\n",
              "      <td>0.0</td>\n",
              "      <td>0.0</td>\n",
              "      <td>0.0</td>\n",
              "      <td>0.0</td>\n",
              "      <td>0.0</td>\n",
              "    </tr>\n",
              "    <tr>\n",
              "      <th>88649</th>\n",
              "      <td>helliri01</td>\n",
              "      <td>2006</td>\n",
              "      <td>1</td>\n",
              "      <td>MIL</td>\n",
              "      <td>NL</td>\n",
              "      <td>20</td>\n",
              "      <td>3</td>\n",
              "      <td>0</td>\n",
              "      <td>0</td>\n",
              "      <td>0</td>\n",
              "      <td>0</td>\n",
              "      <td>0</td>\n",
              "      <td>0.0</td>\n",
              "      <td>0.0</td>\n",
              "      <td>0.0</td>\n",
              "      <td>0</td>\n",
              "      <td>2.0</td>\n",
              "      <td>0.0</td>\n",
              "      <td>0.0</td>\n",
              "      <td>0.0</td>\n",
              "      <td>0.0</td>\n",
              "      <td>0.0</td>\n",
              "    </tr>\n",
              "    <tr>\n",
              "      <th>88650</th>\n",
              "      <td>johnsra05</td>\n",
              "      <td>2006</td>\n",
              "      <td>1</td>\n",
              "      <td>NYA</td>\n",
              "      <td>AL</td>\n",
              "      <td>33</td>\n",
              "      <td>6</td>\n",
              "      <td>0</td>\n",
              "      <td>1</td>\n",
              "      <td>0</td>\n",
              "      <td>0</td>\n",
              "      <td>0</td>\n",
              "      <td>0.0</td>\n",
              "      <td>0.0</td>\n",
              "      <td>0.0</td>\n",
              "      <td>0</td>\n",
              "      <td>4.0</td>\n",
              "      <td>0.0</td>\n",
              "      <td>0.0</td>\n",
              "      <td>0.0</td>\n",
              "      <td>0.0</td>\n",
              "      <td>0.0</td>\n",
              "    </tr>\n",
              "  </tbody>\n",
              "</table>\n",
              "</div>\n",
              "      <button class=\"colab-df-convert\" onclick=\"convertToInteractive('df-f90e22b8-90a0-462b-a84e-fd7feb27b434')\"\n",
              "              title=\"Convert this dataframe to an interactive table.\"\n",
              "              style=\"display:none;\">\n",
              "        \n",
              "  <svg xmlns=\"http://www.w3.org/2000/svg\" height=\"24px\"viewBox=\"0 0 24 24\"\n",
              "       width=\"24px\">\n",
              "    <path d=\"M0 0h24v24H0V0z\" fill=\"none\"/>\n",
              "    <path d=\"M18.56 5.44l.94 2.06.94-2.06 2.06-.94-2.06-.94-.94-2.06-.94 2.06-2.06.94zm-11 1L8.5 8.5l.94-2.06 2.06-.94-2.06-.94L8.5 2.5l-.94 2.06-2.06.94zm10 10l.94 2.06.94-2.06 2.06-.94-2.06-.94-.94-2.06-.94 2.06-2.06.94z\"/><path d=\"M17.41 7.96l-1.37-1.37c-.4-.4-.92-.59-1.43-.59-.52 0-1.04.2-1.43.59L10.3 9.45l-7.72 7.72c-.78.78-.78 2.05 0 2.83L4 21.41c.39.39.9.59 1.41.59.51 0 1.02-.2 1.41-.59l7.78-7.78 2.81-2.81c.8-.78.8-2.07 0-2.86zM5.41 20L4 18.59l7.72-7.72 1.47 1.35L5.41 20z\"/>\n",
              "  </svg>\n",
              "      </button>\n",
              "      \n",
              "  <style>\n",
              "    .colab-df-container {\n",
              "      display:flex;\n",
              "      flex-wrap:wrap;\n",
              "      gap: 12px;\n",
              "    }\n",
              "\n",
              "    .colab-df-convert {\n",
              "      background-color: #E8F0FE;\n",
              "      border: none;\n",
              "      border-radius: 50%;\n",
              "      cursor: pointer;\n",
              "      display: none;\n",
              "      fill: #1967D2;\n",
              "      height: 32px;\n",
              "      padding: 0 0 0 0;\n",
              "      width: 32px;\n",
              "    }\n",
              "\n",
              "    .colab-df-convert:hover {\n",
              "      background-color: #E2EBFA;\n",
              "      box-shadow: 0px 1px 2px rgba(60, 64, 67, 0.3), 0px 1px 3px 1px rgba(60, 64, 67, 0.15);\n",
              "      fill: #174EA6;\n",
              "    }\n",
              "\n",
              "    [theme=dark] .colab-df-convert {\n",
              "      background-color: #3B4455;\n",
              "      fill: #D2E3FC;\n",
              "    }\n",
              "\n",
              "    [theme=dark] .colab-df-convert:hover {\n",
              "      background-color: #434B5C;\n",
              "      box-shadow: 0px 1px 3px 1px rgba(0, 0, 0, 0.15);\n",
              "      filter: drop-shadow(0px 1px 2px rgba(0, 0, 0, 0.3));\n",
              "      fill: #FFFFFF;\n",
              "    }\n",
              "  </style>\n",
              "\n",
              "      <script>\n",
              "        const buttonEl =\n",
              "          document.querySelector('#df-f90e22b8-90a0-462b-a84e-fd7feb27b434 button.colab-df-convert');\n",
              "        buttonEl.style.display =\n",
              "          google.colab.kernel.accessAllowed ? 'block' : 'none';\n",
              "\n",
              "        async function convertToInteractive(key) {\n",
              "          const element = document.querySelector('#df-f90e22b8-90a0-462b-a84e-fd7feb27b434');\n",
              "          const dataTable =\n",
              "            await google.colab.kernel.invokeFunction('convertToInteractive',\n",
              "                                                     [key], {});\n",
              "          if (!dataTable) return;\n",
              "\n",
              "          const docLinkHtml = 'Like what you see? Visit the ' +\n",
              "            '<a target=\"_blank\" href=https://colab.research.google.com/notebooks/data_table.ipynb>data table notebook</a>'\n",
              "            + ' to learn more about interactive tables.';\n",
              "          element.innerHTML = '';\n",
              "          dataTable['output_type'] = 'display_data';\n",
              "          await google.colab.output.renderOutput(dataTable, element);\n",
              "          const docLink = document.createElement('div');\n",
              "          docLink.innerHTML = docLinkHtml;\n",
              "          element.appendChild(docLink);\n",
              "        }\n",
              "      </script>\n",
              "    </div>\n",
              "  </div>\n",
              "  "
            ],
            "text/plain": [
              "          player  year  stint team  lg   g  ...   so  ibb  hbp   sh   sf  gidp\n",
              "id                                          ...                               \n",
              "88641  womacto01  2006      2  CHN  NL  19  ...  4.0  0.0  0.0  3.0  0.0   0.0\n",
              "88643  schilcu01  2006      1  BOS  AL  31  ...  1.0  0.0  0.0  0.0  0.0   0.0\n",
              "88645  myersmi01  2006      1  NYA  AL  62  ...  0.0  0.0  0.0  0.0  0.0   0.0\n",
              "88649  helliri01  2006      1  MIL  NL  20  ...  2.0  0.0  0.0  0.0  0.0   0.0\n",
              "88650  johnsra05  2006      1  NYA  AL  33  ...  4.0  0.0  0.0  0.0  0.0   0.0\n",
              "\n",
              "[5 rows x 22 columns]"
            ]
          },
          "metadata": {},
          "execution_count": 10
        }
      ],
      "source": [
        "# Reindexing should really be called reshuffling. Makes more sense that way.\n",
        "baseball.reindex(baseball.index[::-1]).head()"
      ]
    },
    {
      "cell_type": "markdown",
      "metadata": {
        "id": "e_nHByapDBDz"
      },
      "source": [
        "Notice that the `id` index is not sequential. Say we wanted to populate the table with every `id` value. We could specify and index that is a sequence from the first to the last `id` numbers in the database, and Pandas would fill in the missing data with `NaN` values:"
      ]
    },
    {
      "cell_type": "code",
      "execution_count": null,
      "metadata": {
        "id": "vrre6vOCDBD1"
      },
      "outputs": [],
      "source": [
        "id_range = range(baseball.index.values.min(), baseball.index.values.max())\n",
        "baseball.reindex(id_range).head()"
      ]
    },
    {
      "cell_type": "markdown",
      "metadata": {
        "id": "zvX4GJO5DBD2"
      },
      "source": [
        "Missing values can be filled as desired, either with selected values, or by rule:"
      ]
    },
    {
      "cell_type": "code",
      "execution_count": null,
      "metadata": {
        "id": "YNQFkQ5fDBD3"
      },
      "outputs": [],
      "source": [
        "baseball.reindex(id_range, method='ffill').head()"
      ]
    },
    {
      "cell_type": "code",
      "execution_count": null,
      "metadata": {
        "id": "e5kTblrXDBD4"
      },
      "outputs": [],
      "source": [
        "baseball.reindex(id_range, fill_value='charliebrown', columns=['player']).head()"
      ]
    },
    {
      "cell_type": "markdown",
      "metadata": {
        "id": "t11VmM30DBD5"
      },
      "source": [
        "Keep in mind that `reindex` does not work if we pass a non-unique index series."
      ]
    },
    {
      "cell_type": "markdown",
      "metadata": {
        "id": "UuBC3rRWDBD6"
      },
      "source": [
        "We can remove rows or columns via the `drop` method:"
      ]
    },
    {
      "cell_type": "code",
      "execution_count": null,
      "metadata": {
        "id": "ZlriTCwTDBD7"
      },
      "outputs": [],
      "source": [
        "baseball.shape"
      ]
    },
    {
      "cell_type": "code",
      "execution_count": null,
      "metadata": {
        "id": "6w1tHHFbDBD7"
      },
      "outputs": [],
      "source": [
        "baseball.drop([89525, 89526])"
      ]
    },
    {
      "cell_type": "code",
      "execution_count": null,
      "metadata": {
        "id": "5Qudm-cLDBD8"
      },
      "outputs": [],
      "source": [
        "baseball.drop(['ibb','hbp'], axis=1)"
      ]
    },
    {
      "cell_type": "markdown",
      "metadata": {
        "id": "QmR0QM_VDBD8"
      },
      "source": [
        "## Indexing and Selection\n",
        "\n",
        "Indexing works analogously to indexing in NumPy arrays, except we can use the labels in the `Index` object to extract values in addition to arrays of integers."
      ]
    },
    {
      "cell_type": "code",
      "execution_count": null,
      "metadata": {
        "id": "INCL3wVuDBD9"
      },
      "outputs": [],
      "source": [
        "# Sample Series object\n",
        "hits = baseball_newind.h\n",
        "hits"
      ]
    },
    {
      "cell_type": "code",
      "execution_count": null,
      "metadata": {
        "id": "omg38yJlDBD-"
      },
      "outputs": [],
      "source": [
        "# Numpy-style indexing\n",
        "hits[:3]"
      ]
    },
    {
      "cell_type": "code",
      "execution_count": null,
      "metadata": {
        "id": "OV2IJQc5DBD-"
      },
      "outputs": [],
      "source": [
        "# Indexing by label\n",
        "hits[['womacto01CHN2006','schilcu01BOS2006']]"
      ]
    },
    {
      "cell_type": "markdown",
      "metadata": {
        "id": "7eQiSNccDBD_"
      },
      "source": [
        "We can also slice with data labels, since they have an intrinsic order within the Index:"
      ]
    },
    {
      "cell_type": "code",
      "execution_count": null,
      "metadata": {
        "id": "hvQtQkvpDBEA"
      },
      "outputs": [],
      "source": [
        "hits['womacto01CHN2006':'gonzalu01ARI2006']"
      ]
    },
    {
      "cell_type": "code",
      "execution_count": null,
      "metadata": {
        "id": "IPOsbx_uDBEA"
      },
      "outputs": [],
      "source": [
        "hits['womacto01CHN2006':'gonzalu01ARI2006'] = 5\n",
        "hits"
      ]
    },
    {
      "cell_type": "markdown",
      "metadata": {
        "id": "igGqMH_sDBEB"
      },
      "source": [
        "In a `DataFrame` we can slice along either or both axes:"
      ]
    },
    {
      "cell_type": "code",
      "execution_count": null,
      "metadata": {
        "id": "jv4j5Y6VDBEB"
      },
      "outputs": [],
      "source": [
        "baseball_newind[['h','ab']]"
      ]
    },
    {
      "cell_type": "code",
      "execution_count": null,
      "metadata": {
        "id": "FBKs_LAvDBEC"
      },
      "outputs": [],
      "source": [
        "baseball_newind[baseball_newind.ab>500]"
      ]
    },
    {
      "cell_type": "markdown",
      "metadata": {
        "id": "K_DGfraODBEC"
      },
      "source": [
        "For a more concise (and readable) syntax, we can use the new `query` method to perform selection on a `DataFrame`. Instead of having to type the fully-specified column, we can simply pass a string that describes what to select. The query above is then simply:"
      ]
    },
    {
      "cell_type": "code",
      "execution_count": null,
      "metadata": {
        "id": "wDjzsbunDBED"
      },
      "outputs": [],
      "source": [
        "baseball_newind.query('ab > 500')"
      ]
    },
    {
      "cell_type": "markdown",
      "metadata": {
        "id": "3mfbnKuSDBED"
      },
      "source": [
        "The `DataFrame.index` and `DataFrame.columns` are placed in the query namespace by default. If you want to refer to a variable in the current namespace, you can prefix the variable with `@`:"
      ]
    },
    {
      "cell_type": "code",
      "execution_count": null,
      "metadata": {
        "id": "Jyqsw5B5DBEE"
      },
      "outputs": [],
      "source": [
        "min_ab = 450"
      ]
    },
    {
      "cell_type": "code",
      "execution_count": null,
      "metadata": {
        "id": "9pnHkmHlDBEE"
      },
      "outputs": [],
      "source": [
        "baseball_newind.query('ab > @min_ab')"
      ]
    },
    {
      "cell_type": "markdown",
      "metadata": {
        "id": "dzfUqoHeDBEF"
      },
      "source": [
        "The indexing field `loc` allows us to select subsets of rows and columns in an intuitive way:"
      ]
    },
    {
      "cell_type": "code",
      "execution_count": null,
      "metadata": {
        "id": "hoBHhOnnDBEG"
      },
      "outputs": [],
      "source": [
        "baseball_newind.loc['gonzalu01ARI2006', ['h','X2b', 'X3b', 'hr']]"
      ]
    },
    {
      "cell_type": "code",
      "execution_count": null,
      "metadata": {
        "id": "Yc_IjdRkDBEH"
      },
      "outputs": [],
      "source": [
        "baseball_newind.loc[:'myersmi01NYA2006', 'hr']"
      ]
    },
    {
      "cell_type": "markdown",
      "metadata": {
        "id": "0Q1SaHqzDBEH"
      },
      "source": [
        "In addition to using `loc` to select rows and columns by **label**, pandas also allows indexing by **position** using the `iloc` attribute.\n",
        "\n",
        "So, we can query rows and columns by absolute position, rather than by name:"
      ]
    },
    {
      "cell_type": "code",
      "execution_count": null,
      "metadata": {
        "id": "EO2wqM1vDBEI"
      },
      "outputs": [],
      "source": [
        "baseball_newind.iloc[:5, 5:8]"
      ]
    },
    {
      "cell_type": "markdown",
      "metadata": {
        "id": "Be9LhKdKDBEJ"
      },
      "source": [
        "### Exercise\n",
        "\n",
        "You can use the `isin` method query a DataFrame based upon a list of values as follows: \n",
        "\n",
        "    data['phylum'].isin(['Firmacutes', 'Bacteroidetes'])\n",
        "\n",
        "Use `isin` to find all players that played for the Los Angeles Dodgers (LAN) or the San Francisco Giants (SFN). How many records contain these values?"
      ]
    },
    {
      "cell_type": "code",
      "execution_count": null,
      "metadata": {
        "id": "51MuAUEjDBEK"
      },
      "outputs": [],
      "source": [
        "# Write your answer here"
      ]
    },
    {
      "cell_type": "markdown",
      "metadata": {
        "id": "J2lvpizfDBEK"
      },
      "source": [
        "## Operations\n",
        "\n",
        "`DataFrame` and `Series` objects allow for several operations to take place either on a single object, or between two or more objects.\n",
        "\n",
        "For example, we can perform arithmetic on the elements of two objects, such as combining baseball statistics across years. First, let's (artificially) construct two Series, consisting of home runs hit in years 2006 and 2007, respectively:"
      ]
    },
    {
      "cell_type": "code",
      "execution_count": null,
      "metadata": {
        "id": "B_zZjVDSDBEL"
      },
      "outputs": [],
      "source": [
        "hr2006 = baseball.loc[baseball.year==2006, 'hr']\n",
        "hr2006.index = baseball.player[baseball.year==2006]\n",
        "\n",
        "hr2007 = baseball.loc[baseball.year==2007, 'hr']\n",
        "hr2007.index = baseball.player[baseball.year==2007]"
      ]
    },
    {
      "cell_type": "code",
      "execution_count": null,
      "metadata": {
        "id": "6nvazwW3DBEL"
      },
      "outputs": [],
      "source": [
        "hr2007"
      ]
    },
    {
      "cell_type": "markdown",
      "metadata": {
        "id": "YjvE4b79DBEM"
      },
      "source": [
        "Now, let's add them together, in hopes of getting 2-year home run totals:"
      ]
    },
    {
      "cell_type": "code",
      "execution_count": null,
      "metadata": {
        "id": "ggJdFydODBEM"
      },
      "outputs": [],
      "source": [
        "hr_total = hr2006 + hr2007\n",
        "hr_total"
      ]
    },
    {
      "cell_type": "markdown",
      "metadata": {
        "id": "AJ4cOr-tDBEN"
      },
      "source": [
        "Pandas' data alignment places `NaN` values for labels that do not overlap in the two Series. In fact, there are only 6 players that occur in both years."
      ]
    },
    {
      "cell_type": "code",
      "execution_count": null,
      "metadata": {
        "id": "jpRLgL08DBEN"
      },
      "outputs": [],
      "source": [
        "hr_total[hr_total.notnull()]"
      ]
    },
    {
      "cell_type": "markdown",
      "metadata": {
        "id": "bA-TVZwCDBEO"
      },
      "source": [
        "While we do want the operation to honor the data labels in this way, we probably do not want the missing values to be filled with `NaN`. We can use the `add` method to calculate player home run totals by using the `fill_value` argument to insert a zero for home runs where labels do not overlap:"
      ]
    },
    {
      "cell_type": "code",
      "execution_count": null,
      "metadata": {
        "id": "-yUkBLelDBEP"
      },
      "outputs": [],
      "source": [
        "hr2007.add(hr2006, fill_value=0)"
      ]
    },
    {
      "cell_type": "markdown",
      "metadata": {
        "id": "JuJncyINDBEP"
      },
      "source": [
        "Operations can also be **broadcast** between rows or columns.\n",
        "\n",
        "For example, if we subtract the maximum number of home runs hit from the `hr` column, we get how many fewer than the maximum were hit by each player:"
      ]
    },
    {
      "cell_type": "code",
      "execution_count": null,
      "metadata": {
        "id": "Yn14hDqaDBEP"
      },
      "outputs": [],
      "source": [
        "baseball.hr - baseball.hr.max()"
      ]
    },
    {
      "cell_type": "markdown",
      "metadata": {
        "id": "5aRNfnPODBEQ"
      },
      "source": [
        "Or, looking at things row-wise, we can see how a particular player compares with the rest of the group with respect to important statistics"
      ]
    },
    {
      "cell_type": "code",
      "execution_count": null,
      "metadata": {
        "id": "TyztNSAYDBEQ"
      },
      "outputs": [],
      "source": [
        "baseball.loc[89521, \"player\"]"
      ]
    },
    {
      "cell_type": "code",
      "execution_count": null,
      "metadata": {
        "id": "5L4oZtz5DBER"
      },
      "outputs": [],
      "source": [
        "stats = baseball[['h','X2b', 'X3b', 'hr']]\n",
        "diff = stats - stats.loc[89521]\n",
        "diff[:10]"
      ]
    },
    {
      "cell_type": "markdown",
      "metadata": {
        "id": "klR_HnArDBER"
      },
      "source": [
        "We can also apply functions to each column or row of a `DataFrame`"
      ]
    },
    {
      "cell_type": "code",
      "execution_count": null,
      "metadata": {
        "id": "JznF8YzwDBES"
      },
      "outputs": [],
      "source": [
        "import numpy as np\n",
        "\n",
        "stats.apply(np.median)"
      ]
    },
    {
      "cell_type": "code",
      "execution_count": null,
      "metadata": {
        "id": "finoemoKDBES"
      },
      "outputs": [],
      "source": [
        "def range_calc(x):\n",
        "    return x.max() - x.min()"
      ]
    },
    {
      "cell_type": "code",
      "execution_count": null,
      "metadata": {
        "id": "m76AAEXZDBES"
      },
      "outputs": [],
      "source": [
        "stat_range = lambda x: x.max() - x.min()\n",
        "stats.apply(stat_range)"
      ]
    },
    {
      "cell_type": "markdown",
      "metadata": {
        "id": "ju44sXz5DBET"
      },
      "source": [
        "Lets use apply to calculate a meaningful baseball statistics, slugging percentage:\n",
        "\n",
        "$$SLG = \\frac{1B + (2 \\times 2B) + (3 \\times 3B) + (4 \\times HR)}{AB}$$\n",
        "\n",
        "And just for fun, we will format the resulting estimate."
      ]
    },
    {
      "cell_type": "code",
      "execution_count": null,
      "metadata": {
        "id": "Fz8A6vwTDBET"
      },
      "outputs": [],
      "source": [
        "def slugging(x): \n",
        "    bases = x['h']-x['X2b']-x['X3b']-x['hr'] + 2*x['X2b'] + 3*x['X3b'] + 4*x['hr']\n",
        "    ab = x['ab']+1e-6\n",
        "    \n",
        "    return bases/ab\n",
        "\n",
        "baseball.apply(slugging, axis=1).round(3)"
      ]
    },
    {
      "cell_type": "markdown",
      "metadata": {
        "id": "6PYZZXAWDBEU"
      },
      "source": [
        "## Sorting and Ranking\n",
        "\n",
        "Pandas objects include methods for re-ordering data."
      ]
    },
    {
      "cell_type": "code",
      "execution_count": null,
      "metadata": {
        "id": "dXzx-bSzDBEV"
      },
      "outputs": [],
      "source": [
        "baseball_newind.sort_index().head()"
      ]
    },
    {
      "cell_type": "code",
      "execution_count": null,
      "metadata": {
        "id": "YPrqBfv2DBEV"
      },
      "outputs": [],
      "source": [
        "baseball_newind.sort_index(ascending=False).head()"
      ]
    },
    {
      "cell_type": "markdown",
      "metadata": {
        "id": "QDtKh-PODBEW"
      },
      "source": [
        "Try sorting the **columns** instead of the rows, in ascending order:"
      ]
    },
    {
      "cell_type": "code",
      "execution_count": null,
      "metadata": {
        "id": "1jjSg6niDBEW"
      },
      "outputs": [],
      "source": [
        "baseball_newind.sort_index(axis=1).head()"
      ]
    },
    {
      "cell_type": "markdown",
      "metadata": {
        "id": "9GTHHb7QDBEX"
      },
      "source": [
        "We can also use `sort_values` to sort a `Series` by value, rather than by label."
      ]
    },
    {
      "cell_type": "code",
      "execution_count": null,
      "metadata": {
        "id": "xkzFTDeeDBEX"
      },
      "outputs": [],
      "source": [
        "baseball.hr.sort_values()"
      ]
    },
    {
      "cell_type": "markdown",
      "metadata": {
        "id": "dezn4nkTDBEX"
      },
      "source": [
        "For a `DataFrame`, we can sort according to the values of one or more columns using the `by` argument of `sort_values`:"
      ]
    },
    {
      "cell_type": "code",
      "execution_count": null,
      "metadata": {
        "id": "8DmId8VTDBEY"
      },
      "outputs": [],
      "source": [
        "baseball[['player','sb','cs']].sort_values(ascending=[False,True], \n",
        "                                           by=['sb', 'cs']).head(10)"
      ]
    },
    {
      "cell_type": "markdown",
      "metadata": {
        "id": "U0k5ksq4DBEY"
      },
      "source": [
        "**Ranking** does not re-arrange data, but instead returns an index that ranks each value relative to others in the Series."
      ]
    },
    {
      "cell_type": "code",
      "execution_count": null,
      "metadata": {
        "id": "njFUD2T1DBEZ"
      },
      "outputs": [],
      "source": [
        "baseball.hr.rank()"
      ]
    },
    {
      "cell_type": "markdown",
      "metadata": {
        "id": "Hyj_gno9DBEZ"
      },
      "source": [
        "Ties are assigned the mean value of the tied ranks, which may result in decimal values."
      ]
    },
    {
      "cell_type": "code",
      "execution_count": null,
      "metadata": {
        "id": "g2Mr2JBvDBEa"
      },
      "outputs": [],
      "source": [
        "pd.Series([100,100]).rank()"
      ]
    },
    {
      "cell_type": "markdown",
      "metadata": {
        "id": "66iTmQwkDBEa"
      },
      "source": [
        "Alternatively, you can break ties via one of several methods, such as by the order in which they occur in the dataset:"
      ]
    },
    {
      "cell_type": "code",
      "execution_count": null,
      "metadata": {
        "id": "pz-Cd0rWDBEb"
      },
      "outputs": [],
      "source": [
        "baseball.hr.rank(method='first')"
      ]
    },
    {
      "cell_type": "markdown",
      "metadata": {
        "id": "TfZYQz87DBEb"
      },
      "source": [
        "Calling the `DataFrame`'s `rank` method results in the ranks of all columns:"
      ]
    },
    {
      "cell_type": "code",
      "execution_count": null,
      "metadata": {
        "id": "MzuVdmrADBEb"
      },
      "outputs": [],
      "source": [
        "baseball.rank(ascending=False).head()"
      ]
    },
    {
      "cell_type": "code",
      "execution_count": null,
      "metadata": {
        "id": "9wGb49OrDBEc"
      },
      "outputs": [],
      "source": [
        "baseball[['r','h','hr']].rank(ascending=False).head()"
      ]
    },
    {
      "cell_type": "markdown",
      "metadata": {
        "id": "fH5RVuQyDBEc"
      },
      "source": [
        "### Exercise\n",
        "\n",
        "Calculate **on base percentage** for each player, and return the ordered series of estimates.\n",
        "\n",
        "$$OBP = \\frac{H + BB + HBP}{AB + BB + HBP + SF}$$"
      ]
    },
    {
      "cell_type": "code",
      "execution_count": null,
      "metadata": {
        "id": "FcGKpCnlDBEd"
      },
      "outputs": [],
      "source": [
        "# Write your answer here"
      ]
    },
    {
      "cell_type": "markdown",
      "metadata": {
        "id": "nNviJvR7DBEd"
      },
      "source": [
        "## Hierarchical indexing\n",
        "\n",
        "In the baseball example, I was forced to combine 3 fields to obtain a unique index that was not simply an integer value. A more elegant way to have done this would be to create a hierarchical index from the three fields."
      ]
    },
    {
      "cell_type": "code",
      "execution_count": null,
      "metadata": {
        "id": "j4_8X3XhDBEd"
      },
      "outputs": [],
      "source": [
        "baseball_h = baseball.set_index(['year', 'team', 'player'])\n",
        "baseball_h.head(10)"
      ]
    },
    {
      "cell_type": "markdown",
      "metadata": {
        "id": "5Do4wCThDBEe"
      },
      "source": [
        "This index is a `MultiIndex` object that consists of a sequence of tuples, the elements of which is some combination of the three columns used to create the index. Where there are multiple repeated values, Pandas does not print the repeats, making it easy to identify groups of values."
      ]
    },
    {
      "cell_type": "code",
      "execution_count": null,
      "metadata": {
        "id": "7XcHBiDgDBEe"
      },
      "outputs": [],
      "source": [
        "baseball_h.index[:10]"
      ]
    },
    {
      "cell_type": "code",
      "execution_count": null,
      "metadata": {
        "id": "LKU8gIhqDBEf"
      },
      "outputs": [],
      "source": [
        "baseball_h.index.is_unique"
      ]
    },
    {
      "cell_type": "markdown",
      "metadata": {
        "id": "jXFzRrk5DBEf"
      },
      "source": [
        "Try using this hierarchical index to retrieve Julio Franco (`francju01`), who played for the Atlanta Braves (`ATL`) in 2007:"
      ]
    },
    {
      "cell_type": "code",
      "execution_count": null,
      "metadata": {
        "id": "raWC6-j7DBEg"
      },
      "outputs": [],
      "source": [
        "baseball_h.loc[(2007, 'ATL', 'francju01')]"
      ]
    },
    {
      "cell_type": "markdown",
      "metadata": {
        "id": "p6sOaryvDBEg"
      },
      "source": [
        "Recall earlier we imported some microbiome data using two index columns. This created a 2-level hierarchical index:"
      ]
    },
    {
      "cell_type": "code",
      "execution_count": null,
      "metadata": {
        "id": "v5NsTKWQDBEh"
      },
      "outputs": [],
      "source": [
        "mb = pd.read_csv(\"../data/microbiome.csv\", index_col=['Taxon','Patient'])"
      ]
    },
    {
      "cell_type": "code",
      "execution_count": null,
      "metadata": {
        "id": "e0SHrbQ3DBEh"
      },
      "outputs": [],
      "source": [
        "mb.head(10)"
      ]
    },
    {
      "cell_type": "markdown",
      "metadata": {
        "id": "SduijnU7DBEh"
      },
      "source": [
        "With a hierachical index, we can select subsets of the data based on a *partial* index:"
      ]
    },
    {
      "cell_type": "code",
      "execution_count": null,
      "metadata": {
        "id": "pI80MfCmDBEi"
      },
      "outputs": [],
      "source": [
        "mb.loc['Proteobacteria']"
      ]
    },
    {
      "cell_type": "markdown",
      "metadata": {
        "id": "pmhsuVqoDBEi"
      },
      "source": [
        "Hierarchical indices can be created on either or both axes. Here is a trivial example:"
      ]
    },
    {
      "cell_type": "code",
      "execution_count": null,
      "metadata": {
        "id": "_wTvO8_YDBEj"
      },
      "outputs": [],
      "source": [
        "frame = pd.DataFrame(np.arange(12).reshape(( 4, 3)), \n",
        "                  index =[['a', 'a', 'b', 'b'], [1, 2, 1, 2]], \n",
        "                  columns =[['Ohio', 'Ohio', 'Colorado'], ['Green', 'Red', 'Green']])\n",
        "\n",
        "frame"
      ]
    },
    {
      "cell_type": "markdown",
      "metadata": {
        "id": "ghV3Jkl2DBEj"
      },
      "source": [
        "If you want to get fancy, both the row and column indices themselves can be given names:"
      ]
    },
    {
      "cell_type": "code",
      "execution_count": null,
      "metadata": {
        "id": "XwND8hOVDBEk"
      },
      "outputs": [],
      "source": [
        "frame.index.names = ['key1', 'key2']\n",
        "frame.columns.names = ['state', 'color']\n",
        "frame"
      ]
    },
    {
      "cell_type": "markdown",
      "metadata": {
        "id": "coxchhUaDBEk"
      },
      "source": [
        "With this, we can do all sorts of custom indexing:"
      ]
    },
    {
      "cell_type": "code",
      "execution_count": null,
      "metadata": {
        "id": "J-4rzvsaDBEl"
      },
      "outputs": [],
      "source": [
        "frame.loc['a', 'Ohio']"
      ]
    },
    {
      "cell_type": "markdown",
      "metadata": {
        "id": "yVEMbwbEDBEl"
      },
      "source": [
        "Try retrieving the value corresponding to `b2` in `Colorado`:"
      ]
    },
    {
      "cell_type": "code",
      "execution_count": null,
      "metadata": {
        "id": "yRRy-pkLDBEm"
      },
      "outputs": [],
      "source": [
        "# Write your answer here"
      ]
    },
    {
      "cell_type": "markdown",
      "metadata": {
        "id": "qPJTE9cODBEm"
      },
      "source": [
        "Additionally, the order of the set of indices in a hierarchical `MultiIndex` can be changed by swapping them pairwise:"
      ]
    },
    {
      "cell_type": "code",
      "execution_count": null,
      "metadata": {
        "id": "mO3p7THWDBEn"
      },
      "outputs": [],
      "source": [
        "mb.swaplevel('Patient', 'Taxon').head()"
      ]
    },
    {
      "cell_type": "markdown",
      "metadata": {
        "id": "ixdmN3I4DBEn"
      },
      "source": [
        "Data can also be sorted by any index level, using `sort_index` with the appropriate `level` argument:"
      ]
    },
    {
      "cell_type": "code",
      "execution_count": null,
      "metadata": {
        "id": "zspwMJcxDBEo"
      },
      "outputs": [],
      "source": [
        "mb.sort_index(level='Patient', ascending=False).head()"
      ]
    },
    {
      "cell_type": "markdown",
      "metadata": {
        "id": "6tclDf7uDBEo"
      },
      "source": [
        "## Missing data\n",
        "\n",
        "The occurence of missing data is so prevalent that it pays to use tools like Pandas, which seamlessly integrates missing data handling so that it can be dealt with easily, and in the manner required by the analysis at hand.\n",
        "\n",
        "Missing data are represented in `Series` and `DataFrame` objects by the `NaN` floating point value. However, `None` is also treated as missing, since it is commonly used as such in other contexts (*e.g.* NumPy)."
      ]
    },
    {
      "cell_type": "code",
      "execution_count": null,
      "metadata": {
        "id": "U1r6MDP6DBEq"
      },
      "outputs": [],
      "source": [
        "foo = pd.Series([np.nan, -3, None, 'foobar'])\n",
        "foo"
      ]
    },
    {
      "cell_type": "code",
      "execution_count": null,
      "metadata": {
        "id": "fUqTo0d-DBEq"
      },
      "outputs": [],
      "source": [
        "foo.isnull()"
      ]
    },
    {
      "cell_type": "markdown",
      "metadata": {
        "id": "e_Is0oXJDBEr"
      },
      "source": [
        "Missing values may be dropped or indexed out:"
      ]
    },
    {
      "cell_type": "code",
      "execution_count": null,
      "metadata": {
        "id": "dnH3TPagDBEs"
      },
      "outputs": [],
      "source": [
        "test_scores = pd.read_csv(DATA_PATH + 'test_scores.csv', index_col=0, nrows=50)\n",
        "test_scores"
      ]
    },
    {
      "cell_type": "code",
      "execution_count": null,
      "metadata": {
        "id": "a2SbF6svDBEt"
      },
      "outputs": [],
      "source": [
        "test_scores.dropna()"
      ]
    },
    {
      "cell_type": "code",
      "execution_count": null,
      "metadata": {
        "id": "6ZdvOfGpDBEu"
      },
      "outputs": [],
      "source": [
        "test_scores.isnull()"
      ]
    },
    {
      "cell_type": "code",
      "execution_count": null,
      "metadata": {
        "id": "TpOtfAqVDBEu"
      },
      "outputs": [],
      "source": [
        "test_scores[test_scores.notnull()]"
      ]
    },
    {
      "cell_type": "markdown",
      "metadata": {
        "id": "oYD3si1fDBEv"
      },
      "source": [
        "By default, `dropna` drops entire rows in which one or more values are missing."
      ]
    },
    {
      "cell_type": "markdown",
      "metadata": {
        "id": "2X8j3krNDBEw"
      },
      "source": [
        "This can be overridden by passing the `how='all'` argument, which only drops a row when every field is a missing value."
      ]
    },
    {
      "cell_type": "code",
      "execution_count": null,
      "metadata": {
        "id": "OcO5cFZRDBEw"
      },
      "outputs": [],
      "source": [
        "test_scores.dropna(how='all')"
      ]
    },
    {
      "cell_type": "markdown",
      "metadata": {
        "id": "FCvT-67iDBEx"
      },
      "source": [
        "This can be customized further by specifying how many values need to be present before a row is dropped via the `thresh` argument."
      ]
    },
    {
      "cell_type": "code",
      "execution_count": null,
      "metadata": {
        "id": "3BvfK1KpDBEy"
      },
      "outputs": [],
      "source": [
        "test_scores.dropna(thresh=10)"
      ]
    },
    {
      "cell_type": "markdown",
      "metadata": {
        "id": "FRouRoNwDBEy"
      },
      "source": [
        "This is typically used in time series applications, where there are repeated measurements that are incomplete for some subjects."
      ]
    },
    {
      "cell_type": "markdown",
      "metadata": {
        "id": "TFqzkM9iDBEz"
      },
      "source": [
        "### Exercise\n",
        "\n",
        "Try using the `axis` argument to drop columns with missing values:"
      ]
    },
    {
      "cell_type": "code",
      "execution_count": null,
      "metadata": {
        "id": "MdFUrgjODBE0"
      },
      "outputs": [],
      "source": [
        "# Write your answer here"
      ]
    },
    {
      "cell_type": "markdown",
      "metadata": {
        "id": "5AdAly_FDBE1"
      },
      "source": [
        "Rather than omitting missing data from an analysis, in some cases it may be suitable to fill the missing value in, either with a default value (such as zero) or a value that is either imputed or carried forward/backward from similar data points. We can do this programmatically in Pandas with the `fillna` argument."
      ]
    },
    {
      "cell_type": "code",
      "execution_count": null,
      "metadata": {
        "id": "gwmMSgFvDBE2"
      },
      "outputs": [],
      "source": [
        "test_scores.fillna(-999)"
      ]
    },
    {
      "cell_type": "code",
      "execution_count": null,
      "metadata": {
        "id": "JQEi2XBUDBE3"
      },
      "outputs": [],
      "source": [
        "test_scores.fillna({'family_inv': 0, 'prev_disab': 1})"
      ]
    },
    {
      "cell_type": "markdown",
      "metadata": {
        "id": "EHxiDYImDBE4"
      },
      "source": [
        "Notice that `fillna` by default returns a new object with the desired filling behavior, rather than changing the `Series` or  `DataFrame` in place (**in general, we like to do this, by the way!**)."
      ]
    },
    {
      "cell_type": "markdown",
      "metadata": {
        "id": "VktyqP3lDBE4"
      },
      "source": [
        "We can alter values in-place using `inplace=True`."
      ]
    },
    {
      "cell_type": "code",
      "execution_count": null,
      "metadata": {
        "id": "rPKkZCoYDBE5"
      },
      "outputs": [],
      "source": [
        "test_scores.prev_disab.fillna(0, inplace=True)\n",
        "test_scores"
      ]
    },
    {
      "cell_type": "markdown",
      "metadata": {
        "id": "1RAQ8ns-DBE5"
      },
      "source": [
        "Missing values can also be interpolated, using any one of a variety of methods:"
      ]
    },
    {
      "cell_type": "code",
      "execution_count": null,
      "metadata": {
        "id": "jPc0DcPgDBFE"
      },
      "outputs": [],
      "source": [
        "test_scores.fillna(method='bfill')"
      ]
    },
    {
      "cell_type": "markdown",
      "metadata": {
        "id": "w4TU9FWkDBFF"
      },
      "source": [
        "## Data summarization\n",
        "\n",
        "We often wish to summarize data in `Series` or `DataFrame` objects, so that they can more easily be understood or compared with similar data. The NumPy package contains several functions that are useful here, but several summarization or reduction methods are built into Pandas data structures."
      ]
    },
    {
      "cell_type": "code",
      "execution_count": null,
      "metadata": {
        "id": "Mt9bN1vkDBFG"
      },
      "outputs": [],
      "source": [
        "baseball.sum()"
      ]
    },
    {
      "cell_type": "markdown",
      "metadata": {
        "id": "R1WFbD_ZDBFI"
      },
      "source": [
        "Clearly, `sum` is more meaningful for some columns than others. For methods like `mean` for which application to string variables is not just meaningless, but impossible. We can filter `DataFrame`s by column type with `select_dtypes`:"
      ]
    },
    {
      "cell_type": "code",
      "execution_count": null,
      "metadata": {
        "id": "aIJ3bHhWDBFJ"
      },
      "outputs": [],
      "source": [
        "baseball.select_dtypes(include='number').mean()"
      ]
    },
    {
      "cell_type": "markdown",
      "metadata": {
        "id": "IlVWD18hDBFK"
      },
      "source": [
        "The important difference between NumPy's functions and Pandas' methods is that the latter have built-in support for handling missing data."
      ]
    },
    {
      "cell_type": "code",
      "execution_count": null,
      "metadata": {
        "id": "ESIrYD_fDBFM"
      },
      "outputs": [],
      "source": [
        "test_scores.mean()"
      ]
    },
    {
      "cell_type": "markdown",
      "metadata": {
        "id": "CEGcAriuDBFN"
      },
      "source": [
        "Sometimes we may not want to ignore missing values, and allow the `nan` to propagate."
      ]
    },
    {
      "cell_type": "code",
      "execution_count": null,
      "metadata": {
        "id": "pDpv7cxRDBFO"
      },
      "outputs": [],
      "source": [
        "test_scores.mean(skipna=False)"
      ]
    },
    {
      "cell_type": "markdown",
      "metadata": {
        "id": "uKu1PeshDBFP"
      },
      "source": [
        "Passing `axis=1` will summarize over rows instead of columns, which only makes sense in certain situations."
      ]
    },
    {
      "cell_type": "code",
      "execution_count": null,
      "metadata": {
        "id": "cMH3FjwDDBFR"
      },
      "outputs": [],
      "source": [
        "extra_bases = baseball[['X2b','X3b','hr']].sum(axis=1)\n",
        "extra_bases.sort_values(ascending=False)"
      ]
    },
    {
      "cell_type": "markdown",
      "metadata": {
        "id": "DI-KOndPDBFS"
      },
      "source": [
        "A useful summarization that gives a quick snapshot of multiple statistics for a `Series` or `DataFrame` is `describe`:"
      ]
    },
    {
      "cell_type": "code",
      "execution_count": null,
      "metadata": {
        "id": "wpB-kh7UDBFT"
      },
      "outputs": [],
      "source": [
        "baseball.describe()"
      ]
    },
    {
      "cell_type": "markdown",
      "metadata": {
        "id": "sQDO41wuDBFU"
      },
      "source": [
        "`describe` can detect non-numeric data and sometimes yield useful information about it."
      ]
    },
    {
      "cell_type": "code",
      "execution_count": null,
      "metadata": {
        "id": "94JIIEIhDBFW"
      },
      "outputs": [],
      "source": [
        "baseball.player.describe()"
      ]
    },
    {
      "cell_type": "markdown",
      "metadata": {
        "id": "2_CIeLBaDBFX"
      },
      "source": [
        "We can also calculate summary statistics *across* multiple columns, for example, correlation and covariance.\n",
        "\n",
        "$$cov(x,y) = \\sum_i (x_i - \\bar{x})(y_i - \\bar{y})$$"
      ]
    },
    {
      "cell_type": "code",
      "execution_count": null,
      "metadata": {
        "id": "Xu7x0PLMDBFY"
      },
      "outputs": [],
      "source": [
        "baseball.hr.cov(baseball.X2b)"
      ]
    },
    {
      "cell_type": "markdown",
      "metadata": {
        "id": "hFbwKxNJDBFZ"
      },
      "source": [
        "$$corr(x,y) = \\frac{cov(x,y)}{(n-1)s_x s_y} = \\frac{\\sum_i (x_i - \\bar{x})(y_i - \\bar{y})}{\\sqrt{\\sum_i (x_i - \\bar{x})^2 \\sum_i (y_i - \\bar{y})^2}}$$"
      ]
    },
    {
      "cell_type": "code",
      "execution_count": null,
      "metadata": {
        "id": "Y7KFZHiaDBFc"
      },
      "outputs": [],
      "source": [
        "baseball.hr.corr(baseball.X2b)"
      ]
    },
    {
      "cell_type": "code",
      "execution_count": null,
      "metadata": {
        "id": "T13DKPjaDBFd"
      },
      "outputs": [],
      "source": [
        "baseball.ab.corr(baseball.h)"
      ]
    },
    {
      "cell_type": "markdown",
      "metadata": {
        "id": "k0cRgfJrDBFe"
      },
      "source": [
        "Try running `corr` on the entire `baseball` DataFrame to see what is returned:"
      ]
    },
    {
      "cell_type": "code",
      "execution_count": null,
      "metadata": {
        "id": "9ursbAuzDBFf"
      },
      "outputs": [],
      "source": [
        "# Write answer here"
      ]
    },
    {
      "cell_type": "markdown",
      "metadata": {
        "id": "hwAgh48CDBFh"
      },
      "source": [
        "If we have a `DataFrame` with a hierarchical index (or indices), summary statistics can be applied with respect to any of the index levels:"
      ]
    },
    {
      "cell_type": "code",
      "execution_count": null,
      "metadata": {
        "id": "5tVyZpvEDBFi"
      },
      "outputs": [],
      "source": [
        "mb.head()"
      ]
    },
    {
      "cell_type": "code",
      "execution_count": null,
      "metadata": {
        "id": "OKT1HXezDBFk"
      },
      "outputs": [],
      "source": [
        "mb.groupby(level='Taxon').sum()"
      ]
    },
    {
      "cell_type": "markdown",
      "metadata": {
        "id": "uMzkbaTKDBFl"
      },
      "source": [
        "## Writing Data to Files\n",
        "\n",
        "As well as being able to read several data input formats, Pandas can also export data to a variety of storage formats. We will bring your attention to just a couple of these."
      ]
    },
    {
      "cell_type": "code",
      "execution_count": null,
      "metadata": {
        "id": "yQu2BAkuDBFn"
      },
      "outputs": [],
      "source": [
        "mb.to_csv(\"mb.csv\")"
      ]
    },
    {
      "cell_type": "markdown",
      "metadata": {
        "id": "mevDTyDtDBFn"
      },
      "source": [
        "The `to_csv` method writes a `DataFrame` to a comma-separated values (csv) file. You can specify custom delimiters (via `sep` argument), how missing values are written (via `na_rep` argument), whether the index is writen (via `index` argument), whether the header is included (via `header` argument), among other options."
      ]
    },
    {
      "cell_type": "markdown",
      "metadata": {
        "id": "_dn_-pmwDBFo"
      },
      "source": [
        "An efficient way of storing data to disk is in binary format. Pandas supports this using Python’s built-in pickle serialization."
      ]
    },
    {
      "cell_type": "code",
      "execution_count": null,
      "metadata": {
        "id": "pe8B5wynDBFp"
      },
      "outputs": [],
      "source": [
        "baseball.to_pickle(\"baseball_pickle\")"
      ]
    },
    {
      "cell_type": "markdown",
      "metadata": {
        "id": "MURKrqq6DBFr"
      },
      "source": [
        "The complement to `to_pickle` is the `read_pickle` function, which restores the pickle to a `DataFrame` or `Series`:"
      ]
    },
    {
      "cell_type": "code",
      "execution_count": null,
      "metadata": {
        "id": "jGAmNpDuDBFs"
      },
      "outputs": [],
      "source": [
        "pd.read_pickle(\"baseball_pickle\")"
      ]
    },
    {
      "cell_type": "markdown",
      "metadata": {
        "id": "knvEqCLSDBFt"
      },
      "source": [
        "As Wes warns in his book, it is recommended that binary storage of data via pickle only be used as a temporary storage format, in situations where speed is relevant. This is because there is no guarantee that the pickle format will not change with future versions of Python."
      ]
    },
    {
      "cell_type": "markdown",
      "metadata": {
        "id": "2B0GE-1BDBFu"
      },
      "source": [
        "---\n",
        "## References\n",
        "\n",
        "[Python for Data Analysis](http://shop.oreilly.com/product/0636920023784.do) Wes McKinney"
      ]
    }
  ],
  "metadata": {
    "anaconda-cloud": {},
    "kernelspec": {
      "display_name": "Python 3 (ipykernel)",
      "language": "python",
      "name": "python3"
    },
    "language_info": {
      "codemirror_mode": {
        "name": "ipython",
        "version": 3
      },
      "file_extension": ".py",
      "mimetype": "text/x-python",
      "name": "python",
      "nbconvert_exporter": "python",
      "pygments_lexer": "ipython3",
      "version": "3.9.9"
    },
    "latex_envs": {
      "bibliofile": "biblio.bib",
      "cite_by": "apalike",
      "current_citInitial": 1,
      "eqLabelWithNumbers": true,
      "eqNumInitial": 0
    },
    "nav_menu": {},
    "toc": {
      "navigate_menu": true,
      "number_sections": false,
      "sideBar": false,
      "threshold": "3",
      "toc_cell": true,
      "toc_section_display": "none",
      "toc_window_display": false
    },
    "colab": {
      "name": "Section2_2-Pandas-Fundamentals.ipynb",
      "provenance": [],
      "include_colab_link": true
    }
  },
  "nbformat": 4,
  "nbformat_minor": 0
}